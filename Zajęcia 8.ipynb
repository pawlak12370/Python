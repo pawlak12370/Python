{
 "cells": [
  {
   "cell_type": "markdown",
   "id": "8e3f9dfe",
   "metadata": {},
   "source": [
    "### Zajęcia 8"
   ]
  },
  {
   "cell_type": "markdown",
   "id": "5a8b3d38",
   "metadata": {},
   "source": [
    "###### Klasy\n",
    "    Pozwalają na przechowywanie danych oraz funkcji w jednym obiekcie. Wywołanie klasy tworzy instancję klasy - \n",
    "    nowy obiekt, posiadający metody i typy danych zdefiniowane w klasie. Kolejne obiekty klasy są podobne do \n",
    "    siebie strukturalne i funkcjonalnie, ale mogą się różnić zawartością.\n",
    "    \n",
    "    Definicja klasy:\n",
    "        Blok kodu zaczynający klasę zaczyna instrukcja class Nazwa:. Wywołanie klasy zwraca jej instancję, \n",
    "        którą można przypisać do zmiennej.\n",
    "    \n",
    "    Zawartość klasy:\n",
    "        Wewnątrz definicji klasy można definiować zmienne (atrybuty obiektu) oraz funkcje (metody obiektu). \n",
    "        Będą one dostępne po stworzeniu instancji klasy. \n",
    "        \n",
    "        Definicje metod w klasie muszą zawierać argument self jako pierwszy. Wskazuje on iż metoda ma być \n",
    "        wywoływana w obiekcie. Metody do których nie przekazujemy argumentów, także muszą mieć argument self. \n",
    "        \n",
    "        Wywoływanie metody stworzonego obiektu odbwa się identycznie jak metod wbudowanych klas, \n",
    "        obiekt.metoda().\n",
    "\n",
    "    Modyfikacja danych obiektu:\n",
    "        Wszystkie dane, które zawiera obiekt są dostępne poza nim i można je modyfikować. Atrybuty są wspólne \n",
    "        dla obiektów jednej klasy. Aby to zmienić należy korzystać ze zmiennych definiowanych lokalnie.\n",
    "\n",
    "    Metoda __init__():\n",
    "        Tworzenie nowej instancji klasy wywołuje metodę .__init_(). Deklaracja atrybutów w niej, powoduje żę \n",
    "        tworzone są oddzielnie dla każdego nowego obiektu. "
   ]
  },
  {
   "cell_type": "code",
   "execution_count": 1,
   "id": "2156acbe",
   "metadata": {},
   "outputs": [
    {
     "name": "stdout",
     "output_type": "stream",
     "text": [
      "<class '__main__.Klasa'>\n"
     ]
    }
   ],
   "source": [
    "# Definicja klasy\n",
    "class Klasa: # zdefiniowanie klasy\n",
    "    pass\n",
    "\n",
    "obiekt = Klasa() # wywołanie klasy\n",
    "print(type(obiekt))"
   ]
  },
  {
   "cell_type": "code",
   "execution_count": 3,
   "id": "c55e59fb",
   "metadata": {},
   "outputs": [
    {
     "name": "stdout",
     "output_type": "stream",
     "text": [
      "Funkcja klasy zwraca: 10\n",
      "5\n"
     ]
    }
   ],
   "source": [
    "# Zawartość klasy\n",
    "class Klasa: # zdefiniowanie klasy\n",
    "    atrybut = 5 # nadanie atrybutu klasie\n",
    "    \n",
    "    def funkcja(self,a): # zdefiniowanie funkcji w klasie\n",
    "        print(f\"Funkcja klasy zwraca: {a*2}\")\n",
    "\n",
    "x = Klasa() # przypisanie klasy do zmiennej\n",
    "x.funkcja(5) # wywołanie metody obiektu\n",
    "print(x.atrybut) # wypisanie atrybutu zdefiniowanej klasy"
   ]
  },
  {
   "cell_type": "code",
   "execution_count": 6,
   "id": "0d37c179",
   "metadata": {},
   "outputs": [
    {
     "name": "stdout",
     "output_type": "stream",
     "text": [
      "[5]\n",
      "[5, 10]\n",
      "[5, 10]\n",
      "Funkcja klasy zwraca: 4\n",
      "Funkcja klasy zwraca: 9\n"
     ]
    }
   ],
   "source": [
    "# Modyfikacja danych \n",
    "class Klasa: # zdefiniowanie klasy\n",
    "    atrybut = [5] # nadanie atrybutu klasie\n",
    "    \n",
    "    def funkcja(self, a): # zdefiniowanie funkcji\n",
    "        print(f\"Funkcja klasy zwraca: {a**2}\")\n",
    "\n",
    "x = Klasa() # przypisanie klasy do 2 różnych zmiennych\n",
    "y = Klasa()\n",
    "\n",
    "print(x.atrybut) # wypisanie atrybutu dla zmiennej x\n",
    "\n",
    "x.atrybut.append(10) # dodanie atrybutu do zmiennej x (dodaje do obu)\n",
    "print(x.atrybut)\n",
    "print(y.atrybut)\n",
    "\n",
    "x.funkcja(2) # wywołanie metody obiektu\n",
    "y.funkcja(3)"
   ]
  },
  {
   "cell_type": "code",
   "execution_count": 7,
   "id": "150945d7",
   "metadata": {},
   "outputs": [
    {
     "name": "stdout",
     "output_type": "stream",
     "text": [
      "[5]\n",
      "[5, 8]\n",
      "[5, 2]\n"
     ]
    }
   ],
   "source": [
    "# Metoda __init__()\n",
    "class Klasa: # Taka definicja pozwoli na stworzenie atrybutów oddzielnie dla każdego obiektu\n",
    "    def __init__(self):\n",
    "        self.atrybut = [5]\n",
    "\n",
    "x = Klasa()\n",
    "y = Klasa()\n",
    "\n",
    "print(x.atrybut)\n",
    "\n",
    "x.atrybut.append(8)\n",
    "y.atrybut.append(2)\n",
    "print(x.atrybut)\n",
    "print(y.atrybut)"
   ]
  }
 ],
 "metadata": {
  "kernelspec": {
   "display_name": "Python 3 (ipykernel)",
   "language": "python",
   "name": "python3"
  },
  "language_info": {
   "codemirror_mode": {
    "name": "ipython",
    "version": 3
   },
   "file_extension": ".py",
   "mimetype": "text/x-python",
   "name": "python",
   "nbconvert_exporter": "python",
   "pygments_lexer": "ipython3",
   "version": "3.9.5"
  }
 },
 "nbformat": 4,
 "nbformat_minor": 5
}
