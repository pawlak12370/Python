{
 "cells": [
  {
   "cell_type": "markdown",
   "id": "37e21449",
   "metadata": {},
   "source": [
    "### Zajęcia 2"
   ]
  },
  {
   "cell_type": "raw",
   "id": "43f573d3",
   "metadata": {},
   "source": [
    "Biblioteki:\n",
    "    Są to zbiory gotowego kodu importowane do programu. Mogą \n",
    "    to być zewnętrzne moduły lub inne pliki. Do importowania \n",
    "    biblioteki służy komenda import.\n",
    "    \n",
    "    Można zaimportować bibliotekę pod inną nazwą za pomocą:\n",
    "    import ... as ...\n",
    "    Import pojedynczynch elementów jest możliwy za pomocą:\n",
    "    from ... import ...\n",
    "    \n",
    "    Aby użyć elementu z modułu w kodzie należy poprzedzić jego \n",
    "    nazwę nazwą modułu i kropką."
   ]
  },
  {
   "cell_type": "code",
   "execution_count": 1,
   "id": "dbd76854",
   "metadata": {
    "scrolled": true
   },
   "outputs": [
    {
     "name": "stdout",
     "output_type": "stream",
     "text": [
      "Losowa liczba w przedziale 1 do 10:  7\n"
     ]
    }
   ],
   "source": [
    "import random as rnd\n",
    "a = rnd.randint(1,10)\n",
    "print(\"Losowa liczba w przedziale 1 do 10: \", a)"
   ]
  },
  {
   "cell_type": "code",
   "execution_count": 3,
   "id": "e1ef3bba",
   "metadata": {},
   "outputs": [
    {
     "name": "stdout",
     "output_type": "stream",
     "text": [
      "3.141592653589793\n",
      "3.141592653589793\n"
     ]
    }
   ],
   "source": [
    "#Dwie możliwości importu liczby pi ;)\n",
    "\n",
    "import math\n",
    "from math import pi\n",
    "print(pi)\n",
    "\n",
    "a = math.pi\n",
    "print(a)"
   ]
  },
  {
   "cell_type": "raw",
   "id": "d03bcd67",
   "metadata": {},
   "source": [
    "Stringi:\n",
    "    Są to uporządkowane sekwencje znaku, a zatem można \n",
    "    odwoływać się do poszczególnych znaków przez kwadratowy \n",
    "    nawias zawierający pozycję znaku.\n",
    "    \n",
    "    W Pythonie numerowanie zaczyna się od 0 - zatem [0] \n",
    "    oznacza pierwszy element w sekwencji. Możemy odwoływać się \n",
    "    również do zakresów elementów podając początek i koniec, \n",
    "    rozdzielony dwukropkiem. Nie podanie początku/końca \n",
    "    zakresu oznacza od początku/do końca sekwencji.\n",
    "    \n",
    "    Wywoływać można również elementy od końca sekwencji, przez\n",
    "    zastosowanie numeracji z minusem (działa również na \n",
    "    przedziały).\n",
    "    \n",
    "    Metoda .split() powoduje \"pocięcie\" stringa na podciąg \n",
    "    znaków wg argumentu i zwraca ciąg znaków w formie listy! "
   ]
  },
  {
   "cell_type": "code",
   "execution_count": 2,
   "id": "1f8adb85",
   "metadata": {},
   "outputs": [
    {
     "name": "stdout",
     "output_type": "stream",
     "text": [
      "n\n",
      "trin\n",
      "str\n"
     ]
    }
   ],
   "source": [
    "a = \"string\"\n",
    "print(a[4]) # wypisuje 5 literę (n)\n",
    "print(a[1:5]) # wypisuje od 2 do 5 litery (trin)\n",
    "print(a[:3]) # wypisuje litery od początku do 3 elementu (str)\n"
   ]
  },
  {
   "cell_type": "code",
   "execution_count": 4,
   "id": "8ecfebbd",
   "metadata": {
    "scrolled": true
   },
   "outputs": [
    {
     "name": "stdout",
     "output_type": "stream",
     "text": [
      "g\n",
      "in\n"
     ]
    }
   ],
   "source": [
    "a = \"string\"\n",
    "print(a[-1]) # zwraca ostatnią literę (g)\n",
    "print(a[-3:-1]) # zwraca od 2 do 3 litery od końca \"in\""
   ]
  },
  {
   "cell_type": "code",
   "execution_count": 5,
   "id": "4ed046a8",
   "metadata": {},
   "outputs": [
    {
     "name": "stdout",
     "output_type": "stream",
     "text": [
      "['h2o', 'out']\n"
     ]
    }
   ],
   "source": [
    "wyniki = \"h2o.out\"\n",
    "a = wyniki.split(\".\") # tnie zadany string w miejscu wystąpienia .\n",
    "print(a)"
   ]
  },
  {
   "cell_type": "raw",
   "id": "1285d3ae",
   "metadata": {},
   "source": [
    "Listy:\n",
    "    Lista jest strukturą danych pozwalającą \n",
    "    przetrzymywać wiele obiektów w jednej zmiennej. Jest \n",
    "    tworzona za pomocą kwadratowych nawiasów [], może \n",
    "    przechowywać różne typy danych jednocześnie, jest \n",
    "    uporządkowana - elementy mają swoje miejsca, w których \n",
    "    pozostają, a także jest mutowalna - można dodawać, usuwać \n",
    "    itp elementy listy.\n",
    "    \n",
    "    Dodawanie elementów do listy:\n",
    "        *metoda .append() - dodaje na koniec listy argument.\n",
    "        *metoda .insert() - przymuje dwa argumenty: indeks i \n",
    "          element do wstawienia. Wstawia element pod zadany \n",
    "          indeks.\n",
    "        *metoda .extend() - dodaje listę na koniec innej listy."
   ]
  },
  {
   "cell_type": "code",
   "execution_count": 6,
   "id": "2571340a",
   "metadata": {},
   "outputs": [
    {
     "name": "stdout",
     "output_type": "stream",
     "text": [
      "[1, 6, 3, 6]\n",
      "3\n"
     ]
    }
   ],
   "source": [
    "a = [1,6,3,6] # tworzenie listy\n",
    "b = [] # pusta lista\n",
    "\n",
    "print(a) # wypisanie całej listy\n",
    "print(a[2]) # wypisanie 3 elementu listy"
   ]
  },
  {
   "cell_type": "code",
   "execution_count": 9,
   "id": "7df9a53f",
   "metadata": {},
   "outputs": [
    {
     "name": "stdout",
     "output_type": "stream",
     "text": [
      "[5, 10]\n",
      "[20, 5, 10]\n",
      "[20, 5, 10, 'fi1', 'fi2']\n"
     ]
    }
   ],
   "source": [
    "a = []\n",
    "b = [\"fi1\", \"fi2\"]\n",
    "\n",
    "a.append(5)\n",
    "a.append(10) # dodawanie elementów do listy\n",
    "print(a)\n",
    "\n",
    "a.insert(0,20) # wstawiamy jako element 1, liczbę 20\n",
    "print(a)\n",
    "\n",
    "a.extend(b) # do listy a dodajemy listę b\n",
    "print(a)"
   ]
  },
  {
   "cell_type": "markdown",
   "id": "7e774982",
   "metadata": {},
   "source": [
    "#### Zadania: "
   ]
  },
  {
   "cell_type": "raw",
   "id": "42813e74",
   "metadata": {},
   "source": [
    "I. Napisz program liczący pole koła z podanego przez użytkownika promienia(Liczbę pi pobierz z biblioteki math)."
   ]
  },
  {
   "cell_type": "code",
   "execution_count": 12,
   "id": "c4438f74",
   "metadata": {},
   "outputs": [
    {
     "name": "stdout",
     "output_type": "stream",
     "text": [
      "Podaj promień koła: 5\n",
      "Pole wynosi:  78.53981633974483\n"
     ]
    }
   ],
   "source": [
    "import math\n",
    "\n",
    "r = input(\"Podaj promień koła: \")\n",
    "ri = int(r)\n",
    "\n",
    "p = math.pi*ri**2\n",
    "\n",
    "print(\"Pole wynosi: \",p)\n"
   ]
  },
  {
   "cell_type": "raw",
   "id": "6ddfe902",
   "metadata": {},
   "source": [
    "II. Napisz program pytający o pełną nazwę pliku np. sprawozdanie.docx i zwracający oddzielnie nazwę i oddzielnie rozszerzenie."
   ]
  },
  {
   "cell_type": "code",
   "execution_count": 14,
   "id": "b50f59c6",
   "metadata": {},
   "outputs": [
    {
     "name": "stdout",
     "output_type": "stream",
     "text": [
      "Podaj pełną nazwę pliku: benzen.xyz\n",
      "Nazwa pliku:  benzen\n",
      "rozszerzenie:  xyz\n"
     ]
    }
   ],
   "source": [
    "plik = input(\"Podaj pełną nazwę pliku: \")\n",
    "\n",
    "a = plik.split(\".\")\n",
    "\n",
    "p1 = a[0]\n",
    "p2 = a[1]\n",
    "\n",
    "print(\"Nazwa pliku: \",p1)\n",
    "print(\"rozszerzenie: \",p2)"
   ]
  },
  {
   "cell_type": "raw",
   "id": "51da32e2",
   "metadata": {},
   "source": [
    "III. Napisz program liczący pole prostokąta o zadanych przez użytkowanika bokach, zwracający boki oraz pole w liście."
   ]
  },
  {
   "cell_type": "code",
   "execution_count": 15,
   "id": "d8655033",
   "metadata": {},
   "outputs": [
    {
     "name": "stdout",
     "output_type": "stream",
     "text": [
      "Podaj dwa boki prostokąta: 2,5\n",
      "[bok 1, bok 2, pole] [2, 5, 10]\n"
     ]
    }
   ],
   "source": [
    "a = input(\"Podaj dwa boki prostokąta: \")\n",
    "\n",
    "boki = a.split(\",\")\n",
    "b1 = int(boki[0])\n",
    "b2 = int(boki[1])\n",
    "\n",
    "p = b1*b2\n",
    "\n",
    "list = [b1,b2,p]\n",
    "\n",
    "print(\"[bok 1, bok 2, pole]\", list)"
   ]
  }
 ],
 "metadata": {
  "kernelspec": {
   "display_name": "Python 3 (ipykernel)",
   "language": "python",
   "name": "python3"
  },
  "language_info": {
   "codemirror_mode": {
    "name": "ipython",
    "version": 3
   },
   "file_extension": ".py",
   "mimetype": "text/x-python",
   "name": "python",
   "nbconvert_exporter": "python",
   "pygments_lexer": "ipython3",
   "version": "3.9.5"
  }
 },
 "nbformat": 4,
 "nbformat_minor": 5
}
