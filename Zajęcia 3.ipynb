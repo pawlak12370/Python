{
 "cells": [
  {
   "cell_type": "markdown",
   "id": "c3ed376f",
   "metadata": {},
   "source": [
    "### Zajęcia 3"
   ]
  },
  {
   "cell_type": "raw",
   "id": "82112d7e",
   "metadata": {},
   "source": [
    "Instrukcje warunkowe:\n",
    "    Pozwalają na tworzenie kodu, który wykonywany jest pod \n",
    "    pewnymi warunkami. Warunek zostaje sprawdzony komendą \n",
    "    if...:\n",
    "    \n",
    "    Jeżeli warunek za słowem if jest prawdziwy, to blok kodu \n",
    "    poniżej zostanie wykonany. Jeżeli nie to zostanie \n",
    "    pominięty.\n",
    "    \n",
    "    Blok kodu przypisany instrukcji if jest odróżniany \n",
    "    wcięciem(tabulator lub 4 spacje). Bez wcięcia będzie \n",
    "    wykonywany niezależnie od warunku - jest traktowany jak \n",
    "    kod poza instrukcją."
   ]
  },
  {
   "cell_type": "code",
   "execution_count": 1,
   "id": "4b47cf29",
   "metadata": {},
   "outputs": [
    {
     "name": "stdout",
     "output_type": "stream",
     "text": [
      "Zmienna a jest równa 5\n"
     ]
    }
   ],
   "source": [
    "a = 5\n",
    "if a == 5: # Warunek, który wypisuje tekst, gdy a = 5\n",
    "    print(\"Zmienna a jest równa 5\")"
   ]
  },
  {
   "cell_type": "raw",
   "id": "7b7404de",
   "metadata": {},
   "source": [
    "Operatory porównania:\n",
    "    Do konstrukcji warunków można użyć operatorów:\n",
    "        * == równość\n",
    "        * != nierówność\n",
    "        * <,> mniejsze, większe\n",
    "        * <=,>= mniejsze lub równe, większe lub równe\n",
    "    Warunki są interpretowane jako logiczny typ danych: \n",
    "    boolean. Ten typ może przyjmować dwie wartości: True/False."
   ]
  },
  {
   "cell_type": "code",
   "execution_count": 2,
   "id": "921ca342",
   "metadata": {},
   "outputs": [
    {
     "name": "stdout",
     "output_type": "stream",
     "text": [
      "<class 'bool'>\n",
      "False\n"
     ]
    }
   ],
   "source": [
    "a = 25\n",
    "print(type(a == 25))\n",
    "print(a < 5)"
   ]
  },
  {
   "cell_type": "raw",
   "id": "56b195f5",
   "metadata": {},
   "source": [
    "Operatory logiczne:\n",
    "    Pozwalają na budowanie zdań logicznych, łącząc warunki i \n",
    "    interpretują zgodnie z zasadami logiki. Są one następujące:\n",
    "        * and - zwraca True jeżeli obie wartości są True\n",
    "        * or - zwraca True jeżeli jedna wartość jest True\n",
    "        * not - zwraca False jeśli podana wartość jest True"
   ]
  },
  {
   "cell_type": "code",
   "execution_count": 3,
   "id": "25e2ff2e",
   "metadata": {},
   "outputs": [
    {
     "name": "stdout",
     "output_type": "stream",
     "text": [
      "True\n",
      "True\n",
      "True\n"
     ]
    }
   ],
   "source": [
    "a = 5\n",
    "b = 2 \n",
    "\n",
    "print(a == 5 and b == 2)\n",
    "print(a == 5 or b != 2)\n",
    "print(not b > 5)"
   ]
  },
  {
   "cell_type": "raw",
   "id": "8746946e",
   "metadata": {},
   "source": [
    "    else i elif:\n",
    "        Aby program zachowywał się inaczej w zależności od \n",
    "        prawdziwości warunku, potrzebne są instrukcje else i \n",
    "        elif.\n",
    "        \n",
    "        elif - pozwala na sprawdzenie kolejnego warunku, jeżeli \n",
    "        pierwszy nie został spełniony. Wykonuje kod tylko \n",
    "        jeżeli warunek jest spełniony, a poprzednie warunki \n",
    "        nie.\n",
    "        \n",
    "        else - wykonuje kod, który następuje po nim jeśli żadne \n",
    "        z poprzednich warunków nie zostały spełnione."
   ]
  },
  {
   "cell_type": "code",
   "execution_count": 4,
   "id": "e96c3516",
   "metadata": {},
   "outputs": [
    {
     "name": "stdout",
     "output_type": "stream",
     "text": [
      "a jest większe od 5\n"
     ]
    }
   ],
   "source": [
    "a = 10\n",
    "\n",
    "if a < 5:\n",
    "    print(\"a jest mniejsze niż 5\")\n",
    "elif a == 5:\n",
    "    print(\"a wynosi 5\")\n",
    "else:\n",
    "    print(\"a jest większe od 5\")"
   ]
  },
  {
   "cell_type": "raw",
   "id": "c4b0cfa8",
   "metadata": {},
   "source": [
    "Operatory in i is:\n",
    "    Operator in - sprawdza czy dany obiekt znajduje się w innym \n",
    "    obiekcie np. czy element znajduje się w liście.\n",
    "    \n",
    "    Operator is - pozwala sprawdzić czy zmienne wskazują ten \n",
    "    sam obszar w pamięci komputera(czy zmienne są sobie \n",
    "    tożsame)."
   ]
  },
  {
   "cell_type": "code",
   "execution_count": 5,
   "id": "300f1969",
   "metadata": {},
   "outputs": [
    {
     "name": "stdout",
     "output_type": "stream",
     "text": [
      "True\n"
     ]
    }
   ],
   "source": [
    "a = \"Chemia kwantowa\"\n",
    "print(\"a\" in a)"
   ]
  },
  {
   "cell_type": "code",
   "execution_count": 7,
   "id": "562a1959",
   "metadata": {},
   "outputs": [
    {
     "name": "stdout",
     "output_type": "stream",
     "text": [
      "True\n",
      "\n",
      "False\n",
      "True\n",
      "True\n"
     ]
    }
   ],
   "source": [
    "a = [1, 2, 3]\n",
    "b = [1, 2 ,3]\n",
    "c = a\n",
    "\n",
    "print(2 in a)\n",
    "print()\n",
    "\n",
    "print(a is b)\n",
    "print(a == b)\n",
    "print(a is c)"
   ]
  },
  {
   "cell_type": "markdown",
   "id": "2538de14",
   "metadata": {},
   "source": [
    "###### Zadania:"
   ]
  },
  {
   "cell_type": "raw",
   "id": "f0e584db",
   "metadata": {},
   "source": [
    "I. Napisz program sprawdzający czy podana liczba przez użytkownika jest parzysta."
   ]
  },
  {
   "cell_type": "code",
   "execution_count": 14,
   "id": "24dad63e",
   "metadata": {},
   "outputs": [
    {
     "name": "stdout",
     "output_type": "stream",
     "text": [
      "Wprowadź liczbę: 5\n",
      "Liczba jest nieparzysta\n"
     ]
    }
   ],
   "source": [
    "a = input(\"Wprowadź liczbę: \") \n",
    "b = int(a) # przemiana stringa na int\n",
    "\n",
    "# operator warunkowy\n",
    "if b%2 == 0:\n",
    "    print(\"Liczba jest parzysta\")\n",
    "else:\n",
    "    print(\"Liczba jest nieparzysta\")"
   ]
  },
  {
   "cell_type": "raw",
   "id": "0fe1507e",
   "metadata": {},
   "source": [
    "II. Napisz program wyznaczający pierwiastki równania kwadratowego dla podanych przez użytkownika współczynników a, b i c."
   ]
  },
  {
   "cell_type": "code",
   "execution_count": 5,
   "id": "6e446e1a",
   "metadata": {},
   "outputs": [
    {
     "name": "stdout",
     "output_type": "stream",
     "text": [
      "Wprowadź a: 2\n",
      "Wprowadź b: 2\n",
      "Wprowadź c: 2\n",
      "Pierwiastek x1:  4.0 Pierwiastek x2:  -8.0\n"
     ]
    }
   ],
   "source": [
    "# Wprowadzenie liczb\n",
    "a = int(input(\"Wprowadź a: \"))\n",
    "b = int(input(\"Wprowadź b: \"))\n",
    "c = int(input(\"Wprowadź c: \"))\n",
    "\n",
    "# Obliczenie delty\n",
    "d = (b**2) - 4*a*c\n",
    "dd = d**1/2\n",
    "\n",
    "# Warunki:\n",
    "if d < 0:\n",
    "    x1 = (-b-dd)/2*a \n",
    "    x2 = (-b+dd)/2*a\n",
    "    print (\"Pierwiastek x1: \",x1,\"Pierwiastek x2: \",x2)\n",
    "elif d == 0:\n",
    "    x0 = -b/2*a\n",
    "    print (\"Pierwiastek x0: \",x0)\n",
    "else:\n",
    "    print (\"Delta jest ujemna, brak realnych pierwiastków\")"
   ]
  }
 ],
 "metadata": {
  "kernelspec": {
   "display_name": "Python 3 (ipykernel)",
   "language": "python",
   "name": "python3"
  },
  "language_info": {
   "codemirror_mode": {
    "name": "ipython",
    "version": 3
   },
   "file_extension": ".py",
   "mimetype": "text/x-python",
   "name": "python",
   "nbconvert_exporter": "python",
   "pygments_lexer": "ipython3",
   "version": "3.9.5"
  }
 },
 "nbformat": 4,
 "nbformat_minor": 5
}
