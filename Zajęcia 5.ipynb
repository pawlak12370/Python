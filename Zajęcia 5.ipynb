{
 "cells": [
  {
   "cell_type": "markdown",
   "id": "da7e6d03",
   "metadata": {},
   "source": [
    "### Zajęcia 5"
   ]
  },
  {
   "cell_type": "markdown",
   "id": "71f06537",
   "metadata": {},
   "source": [
    "###### Zbiory:\n",
    "    Podobnie jak listy, zbiory pozwalają na przetrzymywanie obiektów. Tworzy się je za pomocą nawiasów \n",
    "    klamrowych z elementami oddzielanymi przecinkami. W zbiorach można przechowywać różnie typy danych, również \n",
    "    naraz.\n",
    "    \n",
    "    Zbiory są\n",
    "     * Nieuporządkowane - nie można odwoływać się do \n",
    "       poszczególnych elementów poprzez indeks.\n",
    "     * Mutowalne - można dodawać nowe elementy, usuwać \n",
    "       istniejące itp; nie może zawierać powtarzających się elementów.\n",
    "       \n",
    "    Funkcja set() - tworzy pusty zbiór ale też tworzy zbiór na podstawie innych typów danych.\n",
    "    \n",
    "    Modyfikacja zbiorów:\n",
    "     > metoda .add() - dodaje element do zbioru\n",
    "     > metoda .pop() - zwraca (niekoniecznie pierwszy lub \n",
    "       ostatni) element zbioru i go usuwa\n",
    "     > metoda .remove() - usuwa element ze zbioru"
   ]
  },
  {
   "cell_type": "code",
   "execution_count": 2,
   "id": "911168ae",
   "metadata": {},
   "outputs": [
    {
     "name": "stdout",
     "output_type": "stream",
     "text": [
      "{1, 3, 5}\n",
      "<class 'set'>\n",
      "<class 'set'>\n"
     ]
    }
   ],
   "source": [
    "a = {1,3,5} # tworzenie zbioru\n",
    "b = set() # tworzenie pustego zbioru\n",
    "\n",
    "print(a)\n",
    "print(type(a))\n",
    "print(type(b))"
   ]
  },
  {
   "cell_type": "code",
   "execution_count": 3,
   "id": "02678a9f",
   "metadata": {},
   "outputs": [
    {
     "name": "stdout",
     "output_type": "stream",
     "text": [
      "{1, 4}\n",
      "<class 'set'>\n",
      "{'c', 'o', 'ś'}\n",
      "<class 'set'>\n"
     ]
    }
   ],
   "source": [
    "a = [1,4]\n",
    "b = 'coś'\n",
    "\n",
    "a1 = set(a)\n",
    "b1 = set(b)\n",
    "\n",
    "print(a1)\n",
    "print(type(a1))\n",
    "print(b1)\n",
    "print(type(b1))"
   ]
  },
  {
   "cell_type": "code",
   "execution_count": 4,
   "id": "2824ba14",
   "metadata": {},
   "outputs": [
    {
     "name": "stdout",
     "output_type": "stream",
     "text": [
      "{1, 2, 3, 4, 7}\n",
      "1\n",
      "{2, 3, 4, 7}\n",
      "{3, 4, 7}\n"
     ]
    }
   ],
   "source": [
    "a = {4,3,2,1}\n",
    "a.add(7)\n",
    "print(a)\n",
    "\n",
    "print(a.pop())\n",
    "print(a)\n",
    "\n",
    "a.remove(2)\n",
    "print(a)"
   ]
  },
  {
   "cell_type": "markdown",
   "id": "05b380bc",
   "metadata": {},
   "source": [
    "###### Krotki:    \n",
    "    Jest to kolejny typ danych służący do przetrzymywania wielu obiektów. Tworzone za pomocą zwykłych nawiasów, \n",
    "    z elementami oddzielanymi przecinkami. Może przechowywać różne typy danych również naraz.\n",
    "    \n",
    "    Krotki są\n",
    "    * Uporządkowane - można odwołać się do każdego elementu \n",
    "      poprzez jego indeks\n",
    "    * Niemutowalne - nie można dodać ani usunąć elementów\n",
    "   \n",
    "    Funkcja tuple() tworzy krotkę z innych iterowalnych typów danych.\n",
    "   \n",
    "    Inne:\n",
    "     Niezmienniczość modyfikacji krotki można obejść zamieniając ją na listę. Dodanie elementu do krotki tworzy \n",
    "     nowy obiekt, w przeciwieństwie do dodania elementu do listy."
   ]
  },
  {
   "cell_type": "code",
   "execution_count": 5,
   "id": "71d53fa8",
   "metadata": {},
   "outputs": [
    {
     "name": "stdout",
     "output_type": "stream",
     "text": [
      "(1, 4, 2)\n",
      "4\n",
      "<class 'tuple'>\n"
     ]
    }
   ],
   "source": [
    "a = (1,4,2) # tworzenie krotki\n",
    "b = () # tworzenie pustej krotki\n",
    "\n",
    "print(a)\n",
    "print(a[1]) # wypisz 2 element\n",
    "print(type(b))"
   ]
  },
  {
   "cell_type": "code",
   "execution_count": 6,
   "id": "3e4ef609",
   "metadata": {},
   "outputs": [
    {
     "name": "stdout",
     "output_type": "stream",
     "text": [
      "(1, 2, 3)\n",
      "(5, 4, 2)\n",
      "('t', 'e', 'k', 's', 't')\n"
     ]
    }
   ],
   "source": [
    "a = {1,2,3}\n",
    "b = [5,4,2]\n",
    "c = 'tekst'\n",
    "\n",
    "a1,b1,c1 = tuple(a),tuple(b),tuple(c)\n",
    "\n",
    "print(a1)\n",
    "print(b1)\n",
    "print(c1)"
   ]
  },
  {
   "cell_type": "code",
   "execution_count": 7,
   "id": "82082027",
   "metadata": {},
   "outputs": [
    {
     "name": "stdout",
     "output_type": "stream",
     "text": [
      "(2, 4, 1, 5)\n"
     ]
    }
   ],
   "source": [
    "# obejście niezmienniczości krotki\n",
    "a = (2,4,1)\n",
    "b = list(a)\n",
    "b.append (5)\n",
    "a = tuple(b)\n",
    "print(a)"
   ]
  },
  {
   "cell_type": "markdown",
   "id": "f453b1f9",
   "metadata": {},
   "source": [
    "###### Słowniki:\n",
    "    \n",
    "    Przechowują dane w parach klucz:wartość. Tworzy się je za pomocą nawiasów wąsatych, podając dane parami, \n",
    "    oddzielone przecinkami. Może przechowywać różne typy danych, również naraz. Do elementów odwołuje się \n",
    "    poprzez klucz.\n",
    "    \n",
    "    Aby dodać nową parę klucz:wartość należy przypisać wartość do niestniejącego jeszcze słownika. Aby \n",
    "    zmodyfikować wartość klucza należy przypisać nową wartość do istniejącego już klucza. Można użyć również \n",
    "    metody .update(), łączącej powyższe funckjonalności.\n",
    "    \n",
    "    Metoda .pop() zwraca wartość klucza i usuwa parę klucz:wartość ze słownika.\n",
    "    Metoda .items() zwraca listę krotek zawierających part klucz:wartość\n",
    "    Metody .keys() oraz .values() zwracają listy kluczy i wartości "
   ]
  },
  {
   "cell_type": "code",
   "execution_count": 1,
   "id": "40045f75",
   "metadata": {},
   "outputs": [
    {
     "name": "stdout",
     "output_type": "stream",
     "text": [
      "{1: 'miau', 2: 'hau'}\n",
      "{1: 'miau', 'PCK': 4}\n",
      "<class 'dict'>\n",
      "miau\n"
     ]
    }
   ],
   "source": [
    "a = {1:\"miau\",2:\"hau\"}\n",
    "b = {1:\"miau\",\"PCK\":4}\n",
    "c = {} # pusty słownik\n",
    "\n",
    "print(a)\n",
    "print(b)\n",
    "print(type(a))\n",
    "print(b[1])"
   ]
  },
  {
   "cell_type": "code",
   "execution_count": 2,
   "id": "d5fd4edd",
   "metadata": {},
   "outputs": [
    {
     "name": "stdout",
     "output_type": "stream",
     "text": [
      "{1: 'jeden', 2: 'dwa', 3: 'trzy'}\n",
      "{1: 'jeden', 2: 'dwa', 3: 'trzy', 4: 'cztery'}\n",
      "{1: 'jeden', 2: '2', 3: 'trzy', 4: '4'}\n"
     ]
    }
   ],
   "source": [
    "a = {1:\"jeden\",2:\"dwa\",3:\"trzy\"}\n",
    "print(a)\n",
    "a[4] = \"cztery\"\n",
    "print(a)\n",
    "a[2] = \"2\"\n",
    "a.update({4:\"4\"})\n",
    "print(a)"
   ]
  },
  {
   "cell_type": "code",
   "execution_count": 6,
   "id": "53f437b8",
   "metadata": {},
   "outputs": [
    {
     "name": "stdout",
     "output_type": "stream",
     "text": [
      "{1: 'jeden', 3: 'trzy'} dwa\n"
     ]
    }
   ],
   "source": [
    "a = {1:\"jeden\",2:\"dwa\",3:\"trzy\"}\n",
    "b = a.pop(2)\n",
    "print(a, b)"
   ]
  },
  {
   "cell_type": "code",
   "execution_count": 7,
   "id": "7e010c43",
   "metadata": {},
   "outputs": [
    {
     "name": "stdout",
     "output_type": "stream",
     "text": [
      "dict_keys([1, 2, 3])\n",
      "dict_values(['jeden', 'dwa', 'trzy'])\n",
      "dict_items([(1, 'jeden'), (2, 'dwa'), (3, 'trzy')])\n"
     ]
    }
   ],
   "source": [
    "a = {1:\"jeden\",2:\"dwa\",3:\"trzy\"}\n",
    "print(a.keys())\n",
    "print(a.values())\n",
    "print(a.items())"
   ]
  },
  {
   "cell_type": "markdown",
   "id": "0aab0eb6",
   "metadata": {},
   "source": [
    "#### Zadania:"
   ]
  },
  {
   "cell_type": "code",
   "execution_count": null,
   "id": "18383e64",
   "metadata": {},
   "outputs": [],
   "source": []
  }
 ],
 "metadata": {
  "kernelspec": {
   "display_name": "Python 3 (ipykernel)",
   "language": "python",
   "name": "python3"
  },
  "language_info": {
   "codemirror_mode": {
    "name": "ipython",
    "version": 3
   },
   "file_extension": ".py",
   "mimetype": "text/x-python",
   "name": "python",
   "nbconvert_exporter": "python",
   "pygments_lexer": "ipython3",
   "version": "3.9.5"
  }
 },
 "nbformat": 4,
 "nbformat_minor": 5
}
