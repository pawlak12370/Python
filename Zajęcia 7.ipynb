{
 "cells": [
  {
   "cell_type": "markdown",
   "id": "64fb0d70",
   "metadata": {},
   "source": [
    "### Zajęcia 7"
   ]
  },
  {
   "cell_type": "markdown",
   "id": "75ece60d",
   "metadata": {},
   "source": [
    "###### Formatowanie wyjścia\n",
    "    Metoda stringów .format() - pozwala dodać do stringa różne wartości\n",
    "    Metoda .rjust(), .ljust(), .center() - służą do justowania tekstu\n",
    "    \n",
    "    Fstring - Podjęzyk, w którym do stringów można przekazać sformatowane zmienne:\n",
    "        F-string konstruowany przez wyrażenie f''. Zmienne przekazywane są do stringa nawiasami klamrowymi,a \n",
    "        tekst poza nawiasami nie jest interpretowany.Formatowanie zmiennej w nawiasach klamrowych następuje \n",
    "        po dwukropku.\n",
    "        \n",
    "        Można podać ilość podawanych znaków oraz dokładność.\n",
    "        Wyrównanie podaje się przed ilością znaków.\n",
    "        Niezajętą przestrzeń można zapełnić znakami, w tym celu należy wpisać żądany znak po dwukropku."
   ]
  },
  {
   "cell_type": "code",
   "execution_count": 10,
   "id": "3b5496f7",
   "metadata": {},
   "outputs": [
    {
     "name": "stdout",
     "output_type": "stream",
     "text": [
      "Cena produktu wynosi 10 zł\n"
     ]
    }
   ],
   "source": [
    "# Metoda .format()\n",
    "a = \"Cena produktu wynosi {cena:2} zł\" # definiujemy zmienną cena, do 2 znaków\n",
    "print(a.format(cena = 10)) # wypisujemy tekst z zadaną zmienną"
   ]
  },
  {
   "cell_type": "code",
   "execution_count": 12,
   "id": "a21218b5",
   "metadata": {},
   "outputs": [
    {
     "name": "stdout",
     "output_type": "stream",
     "text": [
      "                                               kot\n",
      "kot                                               \n",
      "                       kot                        \n"
     ]
    }
   ],
   "source": [
    "# Metody formatowania tekstu\n",
    "a = \"kot\"\n",
    "print(a.rjust(50)) # formatowanie do prawej\n",
    "print(a.ljust(50)) # formatowanie do lewej\n",
    "print(a.center(50)) # wycentrowanie"
   ]
  },
  {
   "cell_type": "code",
   "execution_count": 15,
   "id": "94336089",
   "metadata": {},
   "outputs": [
    {
     "name": "stdout",
     "output_type": "stream",
     "text": [
      "tekst\n",
      "3+5 = 8\n",
      "3+5 = 8.00\n"
     ]
    }
   ],
   "source": [
    "# Fstringi\n",
    "a = f\"tekst\"\n",
    "print(a)\n",
    "\n",
    "print(f\"3+5 = {3+5}\") # wynik działania w tekście\n",
    "\n",
    "print(f\"3+5 = {3+5: >3.2f}\") # wynik działania sformatowany"
   ]
  },
  {
   "cell_type": "code",
   "execution_count": 17,
   "id": "b7d22e4b",
   "metadata": {},
   "outputs": [
    {
     "name": "stdout",
     "output_type": "stream",
     "text": [
      "1:   1.5\n",
      "2: 1.54 \n",
      "3: ____1.5\n"
     ]
    }
   ],
   "source": [
    "# Formatowanie stringów\n",
    "a = 1.543\n",
    "print(f\"1: {a:5.2}\") # wyświetla 5 znaków i dokładność 2\n",
    "print(f\"2: {a:<5.3}\") # formatowanie < lub >\n",
    "print(f\"3: {a:_>7.2}\") # 7 znaków, dokładność 2 i _ w pustym miejscu"
   ]
  },
  {
   "cell_type": "markdown",
   "id": "c297f930",
   "metadata": {},
   "source": [
    "###### Praca na plikach\n",
    "    Można zarówno czytać dane z pliku jak i zapisywać do pliku. Najpierw konieczne jest otwarcie pliku.\n",
    "    \n",
    "    Otworzyć plik można funkcją open(), przyjmującą dwa argumenty - nazwę(ścieżkę) pliku oraz tryb, w którym \n",
    "    chcemy otworzyć plik. Zwracany jest obiekt typu plik. Możemy wyróżnić następujące tryby otwierania:\n",
    "        * r - tryb czytania; pozwala czytać plik\n",
    "        * w - tryb pisania; kasuje zawartość pliku i pozwala na zapisywanie w pustym pliku\n",
    "        * a - tryb dodawania; pozwala na zapisywanie do pliku (tworzy go jeżeli nie istnieje)\n",
    "        * r+, w+, a+ - pozwala na czytanie i pisanie w pliku, tworzy go jeżeli nie istnieje, zachowuje resztę \n",
    "          cech r, w i a\n",
    "        * b - otwiera plik w trybie binarnym\n",
    "    Po otwarciu pliku i zakończeniu korzystania z niego, należy zamknąć plik metodą .close()\n",
    "    \n",
    "    Alternatywnie można otworzyć plik z instrukcją with. Zamyka ona źródła takie jak plik pod koniec bloku kodu.\n",
    "    \n",
    "    Operacje na plikach:\n",
    "        * metoda .readline() - zwraca linijkę pliku jako string\n",
    "        * metoda .readlines() - zwraca listę zawierającą wszystkie linijki pliku jako string\n",
    "        * metoda .write() - zapisuje w pliku stringa przesłanego jako argument\n",
    "        \n",
    "    Iterowanie po pliku:\n",
    "        Plik jest obiektem iterowalnym. Linijki pliku są zakończone znakiem nowej linii, print również dodaje \n",
    "        ten znak, natomiast end = '' temu zapobiega.\n"
   ]
  },
  {
   "cell_type": "code",
   "execution_count": 21,
   "id": "a177e03e",
   "metadata": {},
   "outputs": [
    {
     "name": "stdout",
     "output_type": "stream",
     "text": [
      "def is_prime(num):\n",
      "\n"
     ]
    }
   ],
   "source": [
    "# Podstawowa praca na plikach\n",
    "f = open(\"external.py\",'r')\n",
    "print (f.readline()) # czytanie linii\n",
    "f.close()"
   ]
  },
  {
   "cell_type": "code",
   "execution_count": 22,
   "id": "86b511a6",
   "metadata": {},
   "outputs": [
    {
     "name": "stdout",
     "output_type": "stream",
     "text": [
      "def is_prime(num):\n",
      "\n"
     ]
    }
   ],
   "source": [
    "# Alternatywne otwarcie plików - użycie with\n",
    "with open(\"external.py\",\"r\") as f:\n",
    "    print(f.readline())"
   ]
  },
  {
   "cell_type": "code",
   "execution_count": 23,
   "id": "3058927d",
   "metadata": {},
   "outputs": [
    {
     "name": "stdout",
     "output_type": "stream",
     "text": [
      "tekst\n"
     ]
    }
   ],
   "source": [
    "# Operacje na pliku\n",
    "with open(\"test.txt\", \"w\") as f: # Utworzenie pliku z zawartością\n",
    "    f.write(\"tekst\")\n",
    "with open(\"test.txt\", \"r\") as f: # Wczytanie i wypisanie zawartości \n",
    "    print(f.readline())"
   ]
  },
  {
   "cell_type": "code",
   "execution_count": 26,
   "id": "93760967",
   "metadata": {},
   "outputs": [
    {
     "name": "stdout",
     "output_type": "stream",
     "text": [
      "def is_prime(num):\n",
      "def collect(op,m):\n",
      "def addition(a,b):\n",
      "def subtraction(a,b):\n",
      "def multiplication(a,b):\n",
      "def division(a,b):\n",
      "def sqrt(a):\n",
      "def sqrt2(a,b):\n"
     ]
    }
   ],
   "source": [
    "# Iteracja po pliku\n",
    "with open(\"external.py\", \"r\") as file: # Otwiera plik\n",
    "    for line in file: # Iteruje po liniach\n",
    "        if \"def\" in line: # Gdy linia zawiera \"def\" to ją wypisuje\n",
    "            print(line, end = '')"
   ]
  },
  {
   "cell_type": "markdown",
   "id": "de924156",
   "metadata": {},
   "source": [
    "###### Zadania:"
   ]
  },
  {
   "cell_type": "markdown",
   "id": "2649e0cb",
   "metadata": {},
   "source": [
    "I. Napisz program czytający plik rzuty.csv, zawierający jedną linijkę liczb, oddzielonych przecinkami. Wczytaj je i oblicz ich średnią. Następnie dopisz ją do wartości w pliku."
   ]
  },
  {
   "cell_type": "code",
   "execution_count": 44,
   "id": "53c59cc2",
   "metadata": {},
   "outputs": [
    {
     "name": "stdout",
     "output_type": "stream",
     "text": [
      "10.403\n"
     ]
    }
   ],
   "source": [
    "with open(\"rzuty.csv\",\"r+\") as plik: # Otwarcie pliku\n",
    "    a = plik.readline() # Czytanie linii\n",
    "    b = a.split(\",\") # Utworzenie listy ze zmiennymi\n",
    "    d = 0.0\n",
    "    \n",
    "    for i in b: # Iteracja po liście - zamiana na float oraz dodanie\n",
    "        c = float(i)\n",
    "        d += c\n",
    "    sr = d/len(b) # Obliczenie średniej\n",
    "    t = str(sr) # Zamiana na stringa\n",
    "    plik.write(t) # Wypisanie na końcu pliku\n",
    "\n",
    "print(t)"
   ]
  },
  {
   "cell_type": "markdown",
   "id": "b89023f5",
   "metadata": {},
   "source": [
    "II. Napisz program liczący ilość atomów różnego typu w podanym pliku typu .xyz."
   ]
  },
  {
   "cell_type": "code",
   "execution_count": 46,
   "id": "636d4e23",
   "metadata": {},
   "outputs": [
    {
     "name": "stdout",
     "output_type": "stream",
     "text": [
      "Liczba atomów Cu wynosi:  2\n",
      "Liczba atomów O wynosi:  6\n",
      "Liczba atomów H wynosi:  68\n",
      "Liczba atomów C wynosi:  52\n",
      "Liczba atomów N wynosi:  4\n"
     ]
    }
   ],
   "source": [
    "Cu = 0 # Zadanie początkowych zmiennych\n",
    "O = 0\n",
    "H = 0\n",
    "C = 0\n",
    "N = 0\n",
    "with open(\"output.xyz\",'r') as plik: # Otwarcie pliku\n",
    "    for linia in plik: # Iteracja po pliku\n",
    "        if \"Cu\" in linia:\n",
    "            Cu += 1\n",
    "        elif \"O\" in linia:\n",
    "            O += 1\n",
    "        elif \"H\" in linia:\n",
    "            H += 1\n",
    "        elif \"C\" in linia:\n",
    "            C += 1\n",
    "        elif \"N\" in linia:\n",
    "            N += 1\n",
    "        else:\n",
    "            pass\n",
    "print(\"Liczba atomów Cu wynosi: \", Cu)\n",
    "print(\"Liczba atomów O wynosi: \", O)\n",
    "print(\"Liczba atomów H wynosi: \", H)\n",
    "print(\"Liczba atomów C wynosi: \", C)\n",
    "print(\"Liczba atomów N wynosi: \", N)"
   ]
  }
 ],
 "metadata": {
  "kernelspec": {
   "display_name": "Python 3 (ipykernel)",
   "language": "python",
   "name": "python3"
  },
  "language_info": {
   "codemirror_mode": {
    "name": "ipython",
    "version": 3
   },
   "file_extension": ".py",
   "mimetype": "text/x-python",
   "name": "python",
   "nbconvert_exporter": "python",
   "pygments_lexer": "ipython3",
   "version": "3.9.5"
  }
 },
 "nbformat": 4,
 "nbformat_minor": 5
}
