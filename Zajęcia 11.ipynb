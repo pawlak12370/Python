{
 "cells": [
  {
   "cell_type": "markdown",
   "id": "936bd04a",
   "metadata": {},
   "source": [
    "### Zajęcia 11"
   ]
  },
  {
   "cell_type": "markdown",
   "id": "12fbf1a8",
   "metadata": {},
   "source": [
    "###### Generatory\n",
    "    Są one podobne do funkcji, zwracają iterator, którego kolejne elementy są wyliczane, gdy są potrzebne, \n",
    "    co nie zaśmieca pamięci.\n",
    "    \n",
    "    Wyrażenie yield zwraca wartość iteratora w kolejnym kroku, a generator wstrzymuje swoje wykonywanie na \n",
    "    tym etapie, do ponownego yield - kiedy to kontynuuje wykonywanie kodu."
   ]
  },
  {
   "cell_type": "code",
   "execution_count": 1,
   "id": "bbf672c6",
   "metadata": {},
   "outputs": [
    {
     "name": "stdout",
     "output_type": "stream",
     "text": [
      "1\n",
      "1\n",
      "2\n",
      "3\n",
      "5\n",
      "8\n"
     ]
    }
   ],
   "source": [
    "def fib(stop):\n",
    "    a, b = 0, 1\n",
    "    while b <= stop: # gdy b <= stop\n",
    "        yield b # wypisz b\n",
    "        a, b = b, a+b # zamiania zmiennych\n",
    "        \n",
    "for i in fib(10):\n",
    "    print(i)"
   ]
  },
  {
   "cell_type": "markdown",
   "id": "07349ed7",
   "metadata": {},
   "source": [
    "###### Wyrażenia generujące\n",
    "    Jest to skrócony sposób na stworzenie generatora. \n",
    "    \n",
    "    Każdym kolejnym elementem przekazywanym przez generator jest x**2, dla x z zakresu range(10). \n",
    "    \n",
    "    Takie generatory mogą również zawierać warunki."
   ]
  },
  {
   "cell_type": "code",
   "execution_count": 2,
   "id": "46119316",
   "metadata": {},
   "outputs": [
    {
     "name": "stdout",
     "output_type": "stream",
     "text": [
      "<generator object <genexpr> at 0x1082de2e0>\n",
      "0\n",
      "2\n",
      "8\n",
      "18\n",
      "32\n",
      "50\n",
      "72\n",
      "98\n",
      "128\n",
      "162\n"
     ]
    }
   ],
   "source": [
    "gen_expr = (x**2 for x in range(10)) # 2 potęga liczby od 0 do 10\n",
    "print(gen_expr)\n",
    "\n",
    "for i in gen_expr: # wypisz kwadraty i pomnóż razy 2\n",
    "    print(2*i)"
   ]
  },
  {
   "cell_type": "code",
   "execution_count": 3,
   "id": "3e3935fd",
   "metadata": {},
   "outputs": [
    {
     "name": "stdout",
     "output_type": "stream",
     "text": [
      "0.0\n",
      "2.0\n",
      "8.0\n",
      "18.0\n",
      "32.0\n"
     ]
    }
   ],
   "source": [
    "# Warunki generatorów\n",
    "for i in (x**2 for x in range(10) if x%2 == 0):\n",
    "    print(1/2*i)"
   ]
  },
  {
   "cell_type": "markdown",
   "id": "97743e0e",
   "metadata": {},
   "source": [
    "###### Wyrażenia listowe/słownikowe\n",
    "    Pozwalają na tworzenie np. listy w oparciu o inną listę za pomocą generatora. Analogicznie wygląda \n",
    "    tworzenie słowników."
   ]
  },
  {
   "cell_type": "code",
   "execution_count": 4,
   "id": "0648a87b",
   "metadata": {},
   "outputs": [
    {
     "name": "stdout",
     "output_type": "stream",
     "text": [
      "[2, 4, 6, 8]\n"
     ]
    }
   ],
   "source": [
    "# Podstawowo tworzenie listy z listy\n",
    "lista1 = [1,2,3,4]\n",
    "lista2 = []\n",
    "\n",
    "for i in lista1:\n",
    "    lista2.append(i*2)\n",
    "print(lista2)"
   ]
  },
  {
   "cell_type": "code",
   "execution_count": 6,
   "id": "99ef03b4",
   "metadata": {},
   "outputs": [
    {
     "name": "stdout",
     "output_type": "stream",
     "text": [
      "[2, 4, 6, 8]\n"
     ]
    }
   ],
   "source": [
    "# Tworzenie listy z listy za pomocą generatora\n",
    "lista1 = [1,2,3,4]\n",
    "lista2 = [i*2 for i in lista1]\n",
    "print(lista2)"
   ]
  },
  {
   "cell_type": "code",
   "execution_count": 7,
   "id": "e6b2cce4",
   "metadata": {},
   "outputs": [
    {
     "name": "stdout",
     "output_type": "stream",
     "text": [
      "{0: 0, 1: 1, 2: 4, 3: 9, 4: 16, 5: 25, 6: 36, 7: 49, 8: 64, 9: 81, 10: 100}\n"
     ]
    }
   ],
   "source": [
    "# Tworzenie słownika za pomocą generatora\n",
    "zakres = range(11) # tworzenie zakresu\n",
    "dict = {i:i**2 for i in zakres} # tworzenie słownika z zakresu\n",
    "print(dict)"
   ]
  },
  {
   "cell_type": "markdown",
   "id": "1cac9274",
   "metadata": {},
   "source": [
    "###### Funkcje anonimowe\n",
    "    Możliwe jest tworzenie tymczasowych funkcji, które istnieją tylko w momencie ich wywoływania. Nie zawierają wyrażeń def i return, listy argumentów, nie można się do nich odwoływać bez przypisania funkcji do zmiennej - argumenty przekazywane nawiasem.\n",
    "    \n",
    "    'lambda' służy za 'def nazwa' następnie argumenty podawane są bez nawiasów. Za dwukropkiem podawana \n",
    "    jest pojedyncza instrukcja, której wynik zwraca funkcja anonimowa."
   ]
  },
  {
   "cell_type": "code",
   "execution_count": 1,
   "id": "e8c7dac2",
   "metadata": {},
   "outputs": [
    {
     "name": "stdout",
     "output_type": "stream",
     "text": [
      "86.0\n"
     ]
    }
   ],
   "source": [
    "# Konwerter temperatur - opcja 1 (przez użycie def)\n",
    "def konwerter(temp):\n",
    "    return 9*temp/5 + 32\n",
    "\n",
    "tC = 30\n",
    "tF = konwerter(tC)\n",
    "print(tF)"
   ]
  },
  {
   "cell_type": "code",
   "execution_count": 2,
   "id": "5c60f23e",
   "metadata": {},
   "outputs": [
    {
     "name": "stdout",
     "output_type": "stream",
     "text": [
      "86.0\n"
     ]
    }
   ],
   "source": [
    "# Konwerter temperatur - opcja 2 (funkcja lambda)\n",
    "konwerter = lambda temp: 9*temp/5 + 32\n",
    "tC = 30\n",
    "tF = konwerter(tC)\n",
    "print(tF)"
   ]
  },
  {
   "cell_type": "code",
   "execution_count": 3,
   "id": "d4584c73",
   "metadata": {},
   "outputs": [
    {
     "name": "stdout",
     "output_type": "stream",
     "text": [
      "86.0\n"
     ]
    }
   ],
   "source": [
    "# Konwerter temperatur - opcja 3 (lambda w wyrażeniu generatorowym)\n",
    "tC = 30\n",
    "tF = (lambda temp: 9*temp/5 +32)(tC)\n",
    "print(tF)"
   ]
  },
  {
   "cell_type": "markdown",
   "id": "341ae32f",
   "metadata": {},
   "source": [
    "###### Wyrażenia regularne\n",
    "    Są to wzorce opisujące łańcuchy stringów. Pozwalają na wyszukiwanie pasujących (pod)stringów \n",
    "    i przeprowadzenie na nich operacji. Służy do tego biblioteka 're'."
   ]
  },
  {
   "cell_type": "code",
   "execution_count": 4,
   "id": "23ae5067",
   "metadata": {},
   "outputs": [
    {
     "name": "stdout",
     "output_type": "stream",
     "text": [
      "{'H': 'Wodór', 'He': 'Hel', 'Li': 'Lit'}\n"
     ]
    }
   ],
   "source": [
    "import re # import biblioteki\n",
    "atomy = [['\"H\"',\"Wodór\"],['\"He\"',\"Hel\"],['\"Li\"',\"Lit\"]]\n",
    "słow = {(lambda a: re.sub('\"','',a))(a):b for [a,b] in atomy}\n",
    "print(słow)"
   ]
  },
  {
   "cell_type": "markdown",
   "id": "d7f487c7",
   "metadata": {},
   "source": [
    "###### Rozpakowywanie krotek i słowników w funkcjach\n",
    "    Aby pozwolić na przekazanie dowolnej/zmiennej liczby argumentów do funkcji, możemy spakować \n",
    "    przekazane argumenty w krotkę poprzedzając nazwę parametru symbolem *. Można również spakować \n",
    "    argumenty w słownik poprzez symbol **."
   ]
  },
  {
   "cell_type": "code",
   "execution_count": 5,
   "id": "d4fce10b",
   "metadata": {},
   "outputs": [
    {
     "name": "stdout",
     "output_type": "stream",
     "text": [
      "(1, 2, 3, 4, 5)\n",
      "15\n"
     ]
    }
   ],
   "source": [
    "# Pakowanie w krotkę\n",
    "def dod(*liczb):\n",
    "    print(liczb)\n",
    "    return sum(liczb)\n",
    "\n",
    "print(dod(1,2,3,4,5))"
   ]
  },
  {
   "cell_type": "code",
   "execution_count": 6,
   "id": "7f41cf5c",
   "metadata": {},
   "outputs": [
    {
     "name": "stdout",
     "output_type": "stream",
     "text": [
      "{'a': 1, 'b': 2, 'c': 3, 'd': 4}\n",
      "4\n"
     ]
    }
   ],
   "source": [
    "# Pakowanie w słownik\n",
    "def dod(**liczb):\n",
    "    print(liczb)\n",
    "    return len(liczb)\n",
    "\n",
    "print(dod(a=1, b=2, c=3, d=4))"
   ]
  },
  {
   "cell_type": "markdown",
   "id": "0d7381fa",
   "metadata": {},
   "source": [
    "###### Domyślne argumenty w funkcjach\n",
    "    Funkcja może otrzymywać argument, który nadpisuje domyślną wartość jeżeli zostanie podany."
   ]
  },
  {
   "cell_type": "code",
   "execution_count": 8,
   "id": "91f842c8",
   "metadata": {},
   "outputs": [
    {
     "name": "stdout",
     "output_type": "stream",
     "text": [
      "brak liczby\n"
     ]
    }
   ],
   "source": [
    "def funk(liczb = 'brak liczby'):\n",
    "    print(liczb)\n",
    "    \n",
    "funk()"
   ]
  }
 ],
 "metadata": {
  "kernelspec": {
   "display_name": "Python 3 (ipykernel)",
   "language": "python",
   "name": "python3"
  },
  "language_info": {
   "codemirror_mode": {
    "name": "ipython",
    "version": 3
   },
   "file_extension": ".py",
   "mimetype": "text/x-python",
   "name": "python",
   "nbconvert_exporter": "python",
   "pygments_lexer": "ipython3",
   "version": "3.9.5"
  }
 },
 "nbformat": 4,
 "nbformat_minor": 5
}
