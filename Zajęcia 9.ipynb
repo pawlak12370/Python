{
 "cells": [
  {
   "cell_type": "markdown",
   "id": "510371a7",
   "metadata": {},
   "source": [
    "### Zajęcia 9"
   ]
  },
  {
   "cell_type": "markdown",
   "id": "f8bd25d7",
   "metadata": {},
   "source": [
    "###### Numpy - wstęp\n",
    "    Numpy jest to biblioteka do obsługi tablic, macierzy i podstawowej algebry liniowej. Podstawowym typem \n",
    "    obiektu w bibliotece NumPy jest ndarray (n - wymiarowa tablica). Macierze NumPy są szybsze i zajmują \n",
    "    mniej pamięci niż listy pythona. Zajmowana przez nie przestrzeń w pamięci jest ciągła.\n",
    "    \n",
    "    Muszą zawierać dane jednego typu.\n",
    "    \n",
    "    Funkcja np.array() przyjmuje jako argument listę, krotkę itp. i tworzy z niej tablicę ndarray.\n",
    "    "
   ]
  },
  {
   "cell_type": "code",
   "execution_count": 5,
   "id": "84e09b5e",
   "metadata": {},
   "outputs": [
    {
     "name": "stdout",
     "output_type": "stream",
     "text": [
      "<class 'numpy.ndarray'>\n",
      "[4 2 6]\n"
     ]
    }
   ],
   "source": [
    "import numpy as np # importowanie biblioteki NumPy\n",
    "a = np.array([4,2,6]) # tworzenie macierzy NumPyjowskiej z listy\n",
    "print(type(a))\n",
    "print(a)"
   ]
  },
  {
   "cell_type": "markdown",
   "id": "af7a119f",
   "metadata": {},
   "source": [
    "###### Tablice wielowymiarowe\n",
    "    Podanie listy list, krotki krotek itp. jako argument funkcji np.array() tworzy wielowymiarową tablicę.\n",
    "    \n",
    "    Funkcje np.zeros() i np.ones() tworzą n-wymiarową tablicę wypełnioną odpowiednio zerami i jedynkami, o \n",
    "    kształcie przesłanym jako argument w postaci krotki, listy, itp.\n",
    "    \n",
    "    Argument .ndim - przechowuje wymiar tablicy\n",
    "    Argument .size - ilość elementów w tablicy\n",
    "    Argument .shape - kształt tablicy (ilość rzędów, kolumn)\n",
    "    \n",
    "    Tablice 1D:\n",
    "        * np.arrange(start, stop, step, dtype) - tworzy tablicę wypełnioną liczbami z podanego zakresu\n",
    "        * np.linspace(start, stop, num) - tworzy tablicę o zadanym rozmiarze z równoodległymi wartościami \n",
    "          pomiędzy start i stop\n",
    "        \n",
    "    Tablice 2D:\n",
    "        * np.eye(n,m) - tworzy macierz jednostkową o rozmiarze (n,m - wiersze, kolumny)\n",
    "        * np.diag() - tworzy macierz diagonalną w oparciu o tablicę"
   ]
  },
  {
   "cell_type": "code",
   "execution_count": 6,
   "id": "328ec9fa",
   "metadata": {},
   "outputs": [
    {
     "name": "stdout",
     "output_type": "stream",
     "text": [
      "[[1 5 6]\n",
      " [4 2 3]]\n",
      "2\n",
      "(2, 3)\n",
      "[[1. 1. 1.]\n",
      " [1. 1. 1.]\n",
      " [1. 1. 1.]]\n"
     ]
    }
   ],
   "source": [
    "# Tablice wielowymiarowe\n",
    "import numpy as np\n",
    "a = np.array([[1,5,6],[4,2,3]]) # Tworzenie tablicy z listy list\n",
    "\n",
    "print(a)\n",
    "print(a.ndim) # wymiar tablicy\n",
    "print(a.shape) # kształt tablicy\n",
    "\n",
    "b = np.ones((3,3)) # Tworzenie tablicy jedynek o wymiarach 3x3\n",
    "print(b)"
   ]
  },
  {
   "cell_type": "code",
   "execution_count": 9,
   "id": "3e7e544f",
   "metadata": {},
   "outputs": [
    {
     "name": "stdout",
     "output_type": "stream",
     "text": [
      "[1.  1.5 2.  2.5 3.  3.5 4.  4.5]\n",
      "[1. 2. 3. 4. 5.]\n"
     ]
    }
   ],
   "source": [
    "# Tablice 1D\n",
    "import numpy as np\n",
    "print(np.arange(1,5,0.5)) # Tablica liczb od 1 do 5 co 0.5\n",
    "print(np.linspace(1,5,5)) # Tablica liczb od 1 do 5, 5 liczb"
   ]
  },
  {
   "cell_type": "code",
   "execution_count": 10,
   "id": "7b179d09",
   "metadata": {},
   "outputs": [
    {
     "name": "stdout",
     "output_type": "stream",
     "text": [
      "[[1. 0.]\n",
      " [0. 1.]]\n",
      "[[5 0 0]\n",
      " [0 4 0]\n",
      " [0 0 2]]\n"
     ]
    }
   ],
   "source": [
    "# Tablice 2D\n",
    "import numpy as np\n",
    "print(np.eye(2)) # Tablica jednostkowa 2x2\n",
    "print(np.diag([5,4,2])) # Tablica z diagonalą 5, 4 ,2"
   ]
  },
  {
   "cell_type": "markdown",
   "id": "f0e592de",
   "metadata": {},
   "source": [
    "###### Indeksowanie\n",
    "    Odwołanie do elementu podobne jak w obiektach pythona. W przypadku tablic wielowymiarowych, dalsze wymiary \n",
    "    są podawane po przecinku a[0,5]. Wycinki tablic odwołują się do oryginalnej tablicy - modyfikacja zmienia \n",
    "    również tablicę.\n",
    "    \n",
    "    Wycinek tablicy można wywołać a[start:stop:step]; pozostawienie pustych argumentów indeksuje cały wymiar. \n",
    "    Można podać tablicę indekstów a[()]. \n",
    "    Wycinanie może też być dokonywane zdaniami logicznymi a[a==5]"
   ]
  },
  {
   "cell_type": "code",
   "execution_count": 12,
   "id": "c5060cfc",
   "metadata": {},
   "outputs": [
    {
     "name": "stdout",
     "output_type": "stream",
     "text": [
      "[0 1 2 3 4 5 6 7 8 9]\n",
      "3\n",
      "[[0 1 2 3 4]\n",
      " [5 6 7 8 9]]\n",
      "8\n"
     ]
    }
   ],
   "source": [
    "# Odwoływanie się do elementu\n",
    "import numpy as np\n",
    "x = np.arange(10) # tablica od 0 do 9\n",
    "y = np.copy(x)\n",
    "y.shape = (2,5) # tablica od 0 do 9 w kształcie 2 wiersze po 5 liczb\n",
    "\n",
    "print(x)\n",
    "print(x[3]) # wypisz 4 element tablicy x\n",
    "print(y)\n",
    "print(y[1,3]) # wypisz 4 element z 2 rzędu tablicy y"
   ]
  },
  {
   "cell_type": "code",
   "execution_count": 13,
   "id": "bfe38d0c",
   "metadata": {},
   "outputs": [
    {
     "name": "stdout",
     "output_type": "stream",
     "text": [
      "[[0 1 2 3 4]\n",
      " [5 6 7 8 9]]\n",
      "1:  [2 4]\n",
      "2:  [1 9]\n",
      "3:  [6 7 8 9]\n"
     ]
    }
   ],
   "source": [
    "# Wycinki tablicy\n",
    "import numpy as np\n",
    "x = np.arange(10) # tablica od 0 do 9\n",
    "y = np.copy(x)\n",
    "y.shape = (2,5) # tablica od 0 do 9 w kształcie 2 wiersze po 5 liczb\n",
    "\n",
    "print(y)\n",
    "print(\"1: \", x[2:6:2]) # wypisz elementy z tablicy x od 2 do 6, co 2\n",
    "print(\"2: \", y[([0,1],[1,4])]) # element z 1 wiersza 2 oraz z 2 wiersza 5\n",
    "print(\"3: \", x[x>5]) # tylko elementy większe od 5"
   ]
  },
  {
   "cell_type": "markdown",
   "id": "77b17e01",
   "metadata": {},
   "source": [
    "###### Operacje na tablicach\n",
    "    Operatory dodawania/odejmowania/mnożenia/dzielenia działają na tablicach NumPy'a - gdy wymiary tablic się \n",
    "    nie zgadzają, operatory są rozszerzane na wszystkie wymiary.\n",
    "    \n",
    "    Transpozycja jest dokonywana metodą .transpose()\n",
    "    Funkcja np.sum() zwraca sumę elementów podanej tablicy\n",
    "    Moduł linalg zawiera operacje z algebry liniowej\n",
    "    \n",
    "    Uzgadnianie wymiarów, konkatenacja:\n",
    "        * numpy.reshape(array, shape) - zmiana kształtu tablicy array; shape jest to int lub krotka intów\n",
    "        * numpy.concatenate(arrays, axis) - łączy tablice podane jako sekwencja arrays, względem osi \n",
    "        * numpy.stack(arrays, axis) - łączy tablice podane jako sekwencja arrays, względem osi, lecz w \n",
    "          kolejnym wymiarze\n",
    "        * np.hstack(arr), np.vstack(arr), np.dstack(arr) - łączą tablice podane jako krotka arr jak \n",
    "          concatenate, ale horyzontalnie, wertykalnie i względem trzeciego wymiaru\n",
    "    \n",
    "    Dzielenie tablic:\n",
    "        > numpy.split(array, indices_or_sections, axis) - dzieli tablicę array wg kryteriów podanych w \n",
    "          indices_or_sections, względem osi axis.\n",
    "            indices_or_sections może być int-em, wtedy tablica dzielona jest na int równych tablic, lub \n",
    "            tablicą 1-D z indeksami wg. których tablica ma zostać 'przecięta'\n",
    "        > np.hsplit(arr, x), np.vsplit(arr, x), np.dsplit(arr, x) - dzielą tablicę arr na x tablic \n",
    "          horyzontalnie, wertykalnie i względem trzeciej osi\n",
    "\n",
    "    Iloczyn skalarny:\n",
    "        ~ dot(a, b, out=None) - jeżeli wektory to iloczyn skalarny (bez sprzęgania pierwszego argumentu);\n",
    "          jeżeli macierze to iloczyn macierzowy; jeżeli tensory wyższego rzędu to zwinięcie przedostatniego \n",
    "          wymiaru a z ostatnim b\n",
    "        ~ vdot(a, b) - iloczyn skalarny, jeżeli zespolone to pierwszy argument sprzężony; tablice \n",
    "          wielowymiarowe spłaszczane"
   ]
  },
  {
   "cell_type": "code",
   "execution_count": 14,
   "id": "8e63a9ef",
   "metadata": {},
   "outputs": [
    {
     "name": "stdout",
     "output_type": "stream",
     "text": [
      "a+b:  [[ 2.  3.  4.]\n",
      " [ 5.  6.  7.]\n",
      " [ 8.  9. 10.]]\n",
      "a+10:  [[11 12 13]\n",
      " [14 15 16]\n",
      " [17 18 19]]\n",
      "[[12. 12. 12.]\n",
      " [15. 15. 15.]\n",
      " [18. 18. 18.]]\n"
     ]
    }
   ],
   "source": [
    "# Operacje na tablicach\n",
    "import numpy as np\n",
    "a = np.array([[1,2,3],[4,5,6],[7,8,9]])\n",
    "b = np.ones([3,3])\n",
    "\n",
    "print(\"a+b: \",a+b) # suma dwóch tablic\n",
    "print(\"a+10: \",a+10) # dodanie 10 do wszystkich elementów tablic\n",
    "\n",
    "print(np.dot(b,a).transpose()) # transpozycja iloczynu skalarnego"
   ]
  },
  {
   "cell_type": "code",
   "execution_count": 17,
   "id": "6444edb1",
   "metadata": {},
   "outputs": [
    {
     "name": "stdout",
     "output_type": "stream",
     "text": [
      "(5, 2) (10,)\n",
      "[[0 1]\n",
      " [2 3]\n",
      " [4 5]\n",
      " [6 7]\n",
      " [8 9]]\n",
      "[0 1 2 3 4 5 6 7 8 9]\n",
      "(10, 2) [[ 0  1]\n",
      " [ 2  3]\n",
      " [ 4  5]\n",
      " [ 6  7]\n",
      " [ 8  9]\n",
      " [10 11]\n",
      " [12 13]\n",
      " [14 15]\n",
      " [16 17]\n",
      " [18 19]]\n",
      "(5, 4) [[ 0  1 10 11]\n",
      " [ 2  3 12 13]\n",
      " [ 4  5 14 15]\n",
      " [ 6  7 16 17]\n",
      " [ 8  9 18 19]]\n"
     ]
    }
   ],
   "source": [
    "# Uzgadnianie wymiarów\n",
    "import numpy as np\n",
    "x = np.arange(10)\n",
    "y = np.reshape(x, (5,2)) # zmiana kształtu tablicy\n",
    "\n",
    "print(y.shape, x.shape)\n",
    "print(y)\n",
    "print(x)\n",
    "\n",
    "# concatentate\n",
    "z = np.arange(10,20)\n",
    "z = np.reshape(z,(5,2))\n",
    "q1 = np.concatenate((y, z), 0)\n",
    "q2 = np.concatenate((y, z), 1)\n",
    "print(q1.shape,q1)\n",
    "print(q2.shape,q2)\n"
   ]
  },
  {
   "cell_type": "markdown",
   "id": "07496805",
   "metadata": {},
   "source": [
    "###### Zadania:"
   ]
  },
  {
   "cell_type": "markdown",
   "id": "695ed5e3",
   "metadata": {},
   "source": [
    "I. Napisz program wytający użytkownika o dwa n-wymiarowe wektory, oraz pozwalający mu obliczyć sumę wektorów, ich długość oraz to czy są ortogonalne względem siebie.\n",
    "\n",
    "numpy.linalg.norm() - funkcja zwracająca normę podanej macierzy lub wektora. "
   ]
  },
  {
   "cell_type": "code",
   "execution_count": 18,
   "id": "80a5c360",
   "metadata": {},
   "outputs": [
    {
     "name": "stdout",
     "output_type": "stream",
     "text": [
      "Wpisz pierwszy wektor(format: x1,x2, ...,xn) 2,5\n",
      "Wpisz drugi wektor(format: y1,y2, ...,yn) 1,4\n",
      "Pierwszy wektor:  [2. 5.]\n",
      "Drugi wektor:  [1. 4.]\n",
      "Suma wektorów wynosi:  [3. 9.]\n",
      "Długość 1 wektora:  5.385164807134504\n",
      "Długość 2 wektora:  4.123105625617661\n",
      "Wektory nie są ortogonalne\n"
     ]
    }
   ],
   "source": [
    "import numpy as np\n",
    "\n",
    "# wprowadzenie wektorów\n",
    "a = input(\"Wpisz pierwszy wektor(format: x1,x2, ...,xn) \")\n",
    "b = input(\"Wpisz drugi wektor(format: y1,y2, ...,yn) \")\n",
    "\n",
    "# zamiana stringów na floaty\n",
    "l1 = a.split(\",\")\n",
    "l2 = b.split(\",\")\n",
    "lb1 = []\n",
    "lb2 = []\n",
    "for i in l1:\n",
    "    j = float(i)\n",
    "    lb1.append(j)\n",
    "for i in l2:\n",
    "    j = float(i)\n",
    "    lb2.append(j)\n",
    "\n",
    "# powstanie i wypisanie wektorów\n",
    "v1 = np.array(lb1)\n",
    "v2 = np.array(lb2)\n",
    "print(\"Pierwszy wektor: \",v1)\n",
    "print(\"Drugi wektor: \",v2)\n",
    "\n",
    "# suma wektorów\n",
    "sum = v1+v2\n",
    "print(\"Suma wektorów wynosi: \",sum)\n",
    "\n",
    "# długość wektorów\n",
    "print(\"Długość 1 wektora: \", np.linalg.norm(v1))\n",
    "print(\"Długość 2 wektora: \", np.linalg.norm(v2))\n",
    "\n",
    "# ortogonalność\n",
    "orto = np.dot(v1,v2) # iloczyn skalarny\n",
    "if orto == 0:\n",
    "    print(\"Wektory są ortogonalne\")\n",
    "elif orto != 0:\n",
    "    print(\"Wektory nie są ortogonalne\")\n",
    "else:\n",
    "    print(\"Błąd\")"
   ]
  }
 ],
 "metadata": {
  "kernelspec": {
   "display_name": "Python 3 (ipykernel)",
   "language": "python",
   "name": "python3"
  },
  "language_info": {
   "codemirror_mode": {
    "name": "ipython",
    "version": 3
   },
   "file_extension": ".py",
   "mimetype": "text/x-python",
   "name": "python",
   "nbconvert_exporter": "python",
   "pygments_lexer": "ipython3",
   "version": "3.9.5"
  }
 },
 "nbformat": 4,
 "nbformat_minor": 5
}
