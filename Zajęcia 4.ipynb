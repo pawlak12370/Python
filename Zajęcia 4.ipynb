{
 "cells": [
  {
   "cell_type": "markdown",
   "id": "36aa67f4",
   "metadata": {},
   "source": [
    "### Zajęcia 4"
   ]
  },
  {
   "cell_type": "raw",
   "id": "91b9dd4f",
   "metadata": {},
   "source": [
    "Pętla for:\n",
    "    Pozwala ona na wielokrotne wykonanie kodu w bloku.Wykonuje \n",
    "    kod w swoim bloku dla każdego obiektu w podanej sekwencji \n",
    "    lub innym iterowanym obiekcie. Można iterować po string \n",
    "    lub obiektach w liście.\n",
    "    \n",
    "    Aby wykonać kod zadaną ilość razy, można wykorzystać \n",
    "    funkcję range(), zwracającą sekwencję liczb. range(start, \n",
    "    stop, step) przyjmuje 3 argumenty:\n",
    "        *start (opcjonalny) - od jakiej liczby sekwencja ma \n",
    "         się zaczynać; domyślnie 0.\n",
    "        *stop (wymagany) - na jakiej liczbie koniec sekwencji.\n",
    "        *step (opcjonalny) - jakim krokiem liczby mają rosnąć; \n",
    "         domyślnie 1.\n",
    "    \n",
    "    Można użyć wielu pętli, jedna w drugiej - zagnieżdżanie \n",
    "    pętli."
   ]
  },
  {
   "cell_type": "code",
   "execution_count": 1,
   "id": "22af2ab9",
   "metadata": {},
   "outputs": [
    {
     "name": "stdout",
     "output_type": "stream",
     "text": [
      "s\n",
      "t\n",
      "r\n",
      "i\n",
      "n\n",
      "g\n"
     ]
    }
   ],
   "source": [
    "# Funkcja zwraca kolejno litery w stringu\n",
    "for litera in \"string\":\n",
    "    print(litera)"
   ]
  },
  {
   "cell_type": "code",
   "execution_count": 5,
   "id": "c27f6b69",
   "metadata": {},
   "outputs": [
    {
     "name": "stdout",
     "output_type": "stream",
     "text": [
      "0\n",
      "2\n",
      "4\n",
      "6\n",
      "8\n"
     ]
    }
   ],
   "source": [
    "# Funkcja zwraca liczby od 0 do 10, co 2\n",
    "for i in range(0,10,2):\n",
    "    print(i)"
   ]
  },
  {
   "cell_type": "code",
   "execution_count": 6,
   "id": "4af1b246",
   "metadata": {},
   "outputs": [
    {
     "name": "stdout",
     "output_type": "stream",
     "text": [
      "0 0\n",
      "0 1\n",
      "0 2\n",
      "1 0\n",
      "1 1\n",
      "1 2\n",
      "2 0\n",
      "2 1\n",
      "2 2\n",
      "3 0\n",
      "3 1\n",
      "3 2\n",
      "4 0\n",
      "4 1\n",
      "4 2\n"
     ]
    }
   ],
   "source": [
    "# Dla liczb od 0 do 4 zwróć liczby od 0 do 2 i wypisz\n",
    "for i in range(5): # Zwraca liczby od 0 do 4\n",
    "    for j in range(3): # Zwraca liczby od 0 do 2\n",
    "        print(i,j)"
   ]
  },
  {
   "cell_type": "raw",
   "id": "33ee8214",
   "metadata": {},
   "source": [
    "Pętla while:\n",
    "    Pętla while: wykonuje kod w swoim bloku dopóki warunek jest \n",
    "    spełniony."
   ]
  },
  {
   "cell_type": "code",
   "execution_count": 7,
   "id": "5749250f",
   "metadata": {},
   "outputs": [
    {
     "name": "stdout",
     "output_type": "stream",
     "text": [
      "5\n",
      "4\n",
      "3\n"
     ]
    }
   ],
   "source": [
    "x = 5\n",
    "while x > 2:\n",
    "    print (x)\n",
    "    x = x - 1"
   ]
  },
  {
   "cell_type": "raw",
   "id": "ebf42855",
   "metadata": {},
   "source": [
    "Instrukcje kontroli pętli:\n",
    "    *Instrukcja break - przerywa wykonywanie pętli; przechodzi \n",
    "     do kodu poza pętlą.\n",
    "    *Instrukcja continue - przerywa dany przebieg pętli; \n",
    "     przechodzi do początku pętli bez wykonywania reszty kodu.\n",
    "    *Instrukcja pass - nie przerywa pętli, nie powoduje błędu."
   ]
  },
  {
   "cell_type": "code",
   "execution_count": 8,
   "id": "fe12eca7",
   "metadata": {},
   "outputs": [
    {
     "name": "stdout",
     "output_type": "stream",
     "text": [
      "p\n",
      "t\n",
      "h\n",
      "n\n"
     ]
    }
   ],
   "source": [
    "for ltr in \"python\":\n",
    "    if ltr == \"y\" or ltr == \"o\":\n",
    "        continue # Gdy ltr to y lub o przerywa przebieg pętli\n",
    "    else:\n",
    "        print(ltr) # Gdy inne ltr to drukuje "
   ]
  },
  {
   "cell_type": "markdown",
   "id": "3a46ed43",
   "metadata": {},
   "source": [
    "###### Zadania"
   ]
  },
  {
   "cell_type": "raw",
   "id": "4d340a3a",
   "metadata": {},
   "source": [
    "I. Napisz program liczący silnię liczby podanej przez użytkownika."
   ]
  },
  {
   "cell_type": "code",
   "execution_count": 52,
   "id": "79ef77c6",
   "metadata": {},
   "outputs": [
    {
     "name": "stdout",
     "output_type": "stream",
     "text": [
      "Wprowadź liczbę, z której obliczysz silnię: 12\n",
      "Silnia wynosi:  479001600\n"
     ]
    }
   ],
   "source": [
    "# Wprowadzenie liczby\n",
    "l = int(input(\"Wprowadź liczbę, z której obliczysz silnię: \"))\n",
    "\n",
    "a = 1\n",
    "\n",
    "# Pętla\n",
    "for i in range(1,l+1): # Zakres od 1 do l+1\n",
    "    a = a*i # np. 2*1 = a, a w następnym a = 2*3 itd\n",
    "print (\"Silnia wynosi: \",a)"
   ]
  },
  {
   "cell_type": "raw",
   "id": "dac38293",
   "metadata": {},
   "source": [
    "II. Napisz program liczący ślad macierzy 3x3 podanej przez użytkownika."
   ]
  },
  {
   "cell_type": "code",
   "execution_count": 59,
   "id": "c13e778f",
   "metadata": {},
   "outputs": [
    {
     "name": "stdout",
     "output_type": "stream",
     "text": [
      "Wprowadź pierwszy wiersz: 342\n",
      "Wprowadź drugi wiersz: 645\n",
      "Wprowadź trzeci wiersz: 111\n",
      "Wprowadzona macierz jest następująca\n",
      "3 4 2\n",
      "6 4 5\n",
      "1 1 1\n",
      "Ślad wprowadzonej macierzy wynosi:  8\n"
     ]
    }
   ],
   "source": [
    "# Wprowadzenie macierzy 3x3, wiersz po wierszu\n",
    "a = input(\"Wprowadź pierwszy wiersz: \")\n",
    "b = input(\"Wprowadź drugi wiersz: \")\n",
    "c = input(\"Wprowadź trzeci wiersz: \")\n",
    "\n",
    "# Wypisanie macierzy\n",
    "print(\"Wprowadzona macierz jest następująca\")\n",
    "for i,j,k in a,b,c:\n",
    "    print(i,j,k)\n",
    "\n",
    "# Obliczenie śladu macierzy\n",
    "tr = int(a[0])+int(b[1])+int(c[2])\n",
    "print(\"Ślad wprowadzonej macierzy wynosi: \",tr)"
   ]
  },
  {
   "cell_type": "raw",
   "id": "24d8f94a",
   "metadata": {},
   "source": [
    "III. Napisz program o funkcjonalności prostego kalkulatora (dodawanie, odejmowanie, mnożenie, dzielenie, pierwiastkowanie), w ktorym użytkownik będzie wybierał działanie a następnie podawał liczby. Użyj pętli aby użytkownik mógł wykonać więcej niż jedno działanie."
   ]
  },
  {
   "cell_type": "code",
   "execution_count": 2,
   "id": "11873f5e",
   "metadata": {},
   "outputs": [
    {
     "name": "stdout",
     "output_type": "stream",
     "text": [
      "Wybierz działanie: +,-,*,/,**,end  +\n",
      "Wpisz pierwszą liczbę: 5\n",
      "Wpisz drugą liczbę: 7\n",
      "Wynik sumy:  12\n",
      "Wybierz działanie: +,-,*,/,**,end  end\n"
     ]
    }
   ],
   "source": [
    "while 1: # Pętla, która zawsze działa\n",
    "    \n",
    "    # Wybór działania\n",
    "    d = input(\"Wybierz działanie: +,-,*,/,**,end  \")\n",
    "    \n",
    "    # Warunki - kalkulator\n",
    "    if d == \"+\":\n",
    "        l1 = int(input(\"Wpisz pierwszą liczbę: \"))\n",
    "        l2 = int(input(\"Wpisz drugą liczbę: \"))\n",
    "        s = l1+l2\n",
    "        print(\"Wynik sumy: \",s)\n",
    "    elif d == \"-\":\n",
    "        l1 = int(input(\"Wpisz pierwszą liczbę: \"))\n",
    "        l2 = int(input(\"Wpisz drugą liczbę: \"))\n",
    "        r = l1-l2\n",
    "        print(\"Wynik różnicy: \",r)\n",
    "    elif d == \"*\":\n",
    "        l1 = int(input(\"Wpisz pierwszą liczbę: \"))\n",
    "        l2 = int(input(\"Wpisz drugą liczbę: \"))\n",
    "        m = l1*l2\n",
    "        print(\"Wynik ilocznu: \",m)\n",
    "    elif d == \"/\":\n",
    "        l1 = int(input(\"Wpisz pierwszą liczbę: \"))\n",
    "        l2 = int(input(\"Wpisz drugą liczbę: \"))\n",
    "        di = l1/l2\n",
    "        print(\"Wynik ilorazu: \",di)\n",
    "    elif d == \"**\":\n",
    "        l1 = int(input(\"Wpisz pierwszą liczbę: \"))\n",
    "        l2 = int(input(\"Wpisz drugą liczbę: \"))\n",
    "        p = l1**l2\n",
    "        print(\"Wynik potęgowania: \",p)\n",
    "    elif d == \"end\":\n",
    "        break\n",
    "    else:\n",
    "        print(\"Wprowadziłeś nieprawidłową zmienną.\")"
   ]
  },
  {
   "cell_type": "markdown",
   "id": "16bc4cb5",
   "metadata": {},
   "source": [
    "IV. Napisz 'grę' której celem jest odgadnięcie przez użytkownika wylosowanej liczby z przedziału 1-9. Wykorzystaj funkcję randint() z biblioteki random."
   ]
  },
  {
   "cell_type": "code",
   "execution_count": 1,
   "id": "71e19f8f",
   "metadata": {},
   "outputs": [
    {
     "name": "stdout",
     "output_type": "stream",
     "text": [
      "Wpisz zgadywaną liczbę: 6\n",
      "Niepoprawna liczba, zgaduj dalej.\n",
      "Wpisz zgadywaną liczbę: 1\n",
      "Niepoprawna liczba, zgaduj dalej.\n",
      "Wpisz zgadywaną liczbę: 2\n",
      "Niepoprawna liczba, zgaduj dalej.\n",
      "Wpisz zgadywaną liczbę: 3\n",
      "Niepoprawna liczba, zgaduj dalej.\n",
      "Wpisz zgadywaną liczbę: 4\n",
      "Prawidłowo.\n"
     ]
    }
   ],
   "source": [
    "import random # Import modułu random\n",
    "\n",
    "# Tworzenie zmiennych\n",
    "a = random.randint(1,11)\n",
    "b = False # Zmienna początkowo ustawiona na False aby działała pętla while\n",
    "\n",
    "# Tworzenie pętli\n",
    "while b == False:\n",
    "    c = int(input(\"Wpisz zgadywaną liczbę: \"))\n",
    "    if c == a:\n",
    "        b = True # Podanie poprawnej wartości przerywa pętlę\n",
    "        print (\"Prawidłowo.\")\n",
    "    else:\n",
    "        print(\"Niepoprawna liczba, zgaduj dalej.\")"
   ]
  }
 ],
 "metadata": {
  "kernelspec": {
   "display_name": "Python 3 (ipykernel)",
   "language": "python",
   "name": "python3"
  },
  "language_info": {
   "codemirror_mode": {
    "name": "ipython",
    "version": 3
   },
   "file_extension": ".py",
   "mimetype": "text/x-python",
   "name": "python",
   "nbconvert_exporter": "python",
   "pygments_lexer": "ipython3",
   "version": "3.9.5"
  }
 },
 "nbformat": 4,
 "nbformat_minor": 5
}
