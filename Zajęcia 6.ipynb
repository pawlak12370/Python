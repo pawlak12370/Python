{
 "cells": [
  {
   "cell_type": "markdown",
   "id": "57d8b1fe",
   "metadata": {},
   "source": [
    "### Zajęcia 6"
   ]
  },
  {
   "cell_type": "markdown",
   "id": "85b9607d",
   "metadata": {},
   "source": [
    "#### Funkcje\n",
    "    Są to fragmenty kodu wykonywane po wywołaniu. Pozwala na zmniejszenie ilości kodu poprzez zastąpienie \n",
    "    powtórzeń. Użycie funkcji zwiększa czytelność kodu.\n",
    "    \n",
    "    Na definicję funkcji składa się instrukcja def, po której następuje nazwa funkcji i nawias z argumentami, \n",
    "    których funkcja oczekuje. Wywołanie funkcji następuje poprzez podanie jej nazwy i wymaganych argumentów.\n",
    "    \n",
    "    Wywołując funkcję należy podać dokładnie tyle argumentów ile występuje w jej definicji, a jako argumenty \n",
    "    funkcji można przekazać dowolny typ danych. Oprócz wykonania kodu, funkcja może przekazać zmienne stworzone \n",
    "    podczas wykonywania kodu za pomocą return.\n",
    "    \n",
    "    Operator += (-=, *=, /=) służy do dodawania obiektu bez tworzenia nowego tam gdzie jest to możliwe, a gdzie \n",
    "    nie jest to możliwe tworzont jest nowy obiekt z dodanym elementem.\n",
    "    \n",
    "    Funkcja może zwrócić więcej niż jedną zmienną.\n",
    "    Listy, krotki i inne struktury zbiorowe można rozpakować bezpośrednio do zmiennych.\n",
    "    \n",
    "    Przypisanie funkcji do zmiennej\n",
    "         W pythonie funkcja również jest obiektem, który można przypisać do zmiennej. Przypisywanie funkcji do \n",
    "         zmiennej nie wymaga jej wywołania więc zapisujemy nazwę funkcji bez nawiasu.\n",
    "    \n",
    "    Rekurencja:\n",
    "        Można wykorzystać funkcje do wywoływania samej siebie. Można używać wymiennie z pętlami, lecz czasem \n",
    "        upraszcza zagadnienie. Ważne by zadbać o warunek końca, by rekurencja nie była nieskończona.\n",
    "        \n",
    "    Zewnętrzne moduły:\n",
    "        Funkcje muszą w kodzie poprzedzać ich wywołanie. Aby kod był czytelniejszy można trzymać funkcje w \n",
    "        zewnętrznym pliku tzw. module. Import modułów jest analogiczny do importu bibliotek. Plik zawierający \n",
    "        importowane funkcje musi znajdować się w folderze programu lub musi być podana ścieżka do modułu."
   ]
  },
  {
   "cell_type": "code",
   "execution_count": 7,
   "id": "07243402",
   "metadata": {},
   "outputs": [
    {
     "name": "stdout",
     "output_type": "stream",
     "text": [
      "Witaj Paweł\n"
     ]
    }
   ],
   "source": [
    "# Zdefiniowanie funkcji\n",
    "def hello(imie): # definujemy funkcję, która przyjmuje argument imie\n",
    "    print(\"Witaj\", imie) # funkcja zwraca na ekran \"Witaj\" i pobrany argument\n",
    "\n",
    "hello(\"Paweł\") # funkcje wywołujemy przez jej nazwę i argument w nawiasie"
   ]
  },
  {
   "cell_type": "code",
   "execution_count": 4,
   "id": "393b46ce",
   "metadata": {},
   "outputs": [
    {
     "name": "stdout",
     "output_type": "stream",
     "text": [
      "7\n"
     ]
    }
   ],
   "source": [
    "# Wiele argumentów \n",
    "def sum(a,b): # funkcja przyjmuje dwa argumenty\n",
    "    s = a + b # wykonuje na nich działanie\n",
    "    return s # zwraca sumę\n",
    "\n",
    "print(sum(5,2))"
   ]
  },
  {
   "cell_type": "code",
   "execution_count": 5,
   "id": "a307fbed",
   "metadata": {},
   "outputs": [
    {
     "name": "stdout",
     "output_type": "stream",
     "text": [
      "21\n"
     ]
    }
   ],
   "source": [
    "# Wiele argumentów - lista\n",
    "def suma(lista): # def funkcje z argumentem listy\n",
    "    s = 0\n",
    "    for n in lista: # pętla po elementach listy\n",
    "        s += n # sumowanie elementów (operator +=)\n",
    "    return s # zwrot całkowitej sumy\n",
    "\n",
    "a = [1,5,2,5,5,2,1]\n",
    "print(suma(a))"
   ]
  },
  {
   "cell_type": "code",
   "execution_count": 14,
   "id": "a4cc603b",
   "metadata": {},
   "outputs": [
    {
     "name": "stdout",
     "output_type": "stream",
     "text": [
      "<class 'tuple'>\n",
      "16 100\n",
      "<class 'list'>\n",
      "16 100\n"
     ]
    }
   ],
   "source": [
    "# Zwracanie wielu zmiennych\n",
    "def funkcja(a,b):\n",
    "    return a**2,b**2 # Takie zapisanie wyniku zwraca krotkę\n",
    "\n",
    "def funkcja2(a,b):\n",
    "    return [a**2,b**2] # Takie zapisanie zwraca listę\n",
    "\n",
    "a,b = funkcja(4,10)\n",
    "print(type(funkcja(4,10)))\n",
    "print(a,b)\n",
    "\n",
    "a,b = funkcja2(4,10)\n",
    "print(type(funkcja2(4,10)))\n",
    "print(a,b)"
   ]
  },
  {
   "cell_type": "code",
   "execution_count": 15,
   "id": "acffa255",
   "metadata": {},
   "outputs": [
    {
     "name": "stdout",
     "output_type": "stream",
     "text": [
      "3 2 6\n",
      "d o c\n"
     ]
    }
   ],
   "source": [
    "# Rozpakowywanie struktur zbiorowych\n",
    "a = [3,2,6]\n",
    "x, y, z = a\n",
    "print(x, y ,z)\n",
    "\n",
    "b = \"doc\"\n",
    "x, y, z = b\n",
    "print(x, y, z)"
   ]
  },
  {
   "cell_type": "code",
   "execution_count": 16,
   "id": "cdc4e4af",
   "metadata": {},
   "outputs": [
    {
     "name": "stdout",
     "output_type": "stream",
     "text": [
      "9\n",
      "[<function sum at 0x109f44a60>, <function roz at 0x1095b8670>]\n",
      "6 2\n"
     ]
    }
   ],
   "source": [
    "# Przypisanie funkcji do zmiennej\n",
    "def sum(a,b): # Definicja sumy\n",
    "    return a+b\n",
    "def roz(a,b): # Definicja różnicy\n",
    "    return a-b\n",
    "\n",
    "a = sum\n",
    "print(a(4,5))\n",
    "\n",
    "b = [a] # Tworzymy listę zawierającą funkcję a(sumę)\n",
    "b.append(roz) # Dodajemy do listy funkcję liczącą różnicę\n",
    "print(b)\n",
    "\n",
    "print(b[0](4,2), b[1](4,2)) # Wypisuje wynik najpierw dodawania a potem odejmowania dwóch argumentów"
   ]
  },
  {
   "cell_type": "code",
   "execution_count": 18,
   "id": "6af96042",
   "metadata": {},
   "outputs": [
    {
     "name": "stdout",
     "output_type": "stream",
     "text": [
      "1024\n"
     ]
    }
   ],
   "source": [
    "# Rekurencja\n",
    "def liczdopot(x, pot): # Definiujemy funkcje z argumentem liczby i potegi\n",
    "    if pot == 0: # Jeżeli damy potęgę '0' to zawsze otrzymujemy 1\n",
    "        return 1\n",
    "    else:\n",
    "        return x*(liczdopot(x, pot-1)) # W przypadku innym mnożymy liczbę razy liczbę do potęgi-1\n",
    "\n",
    "print(liczdopot(2,10))"
   ]
  },
  {
   "cell_type": "markdown",
   "id": "36349d36",
   "metadata": {},
   "source": [
    "###### Zadania:"
   ]
  },
  {
   "cell_type": "markdown",
   "id": "e8a5cbfc",
   "metadata": {},
   "source": [
    "I. Napisz program o funkcjonalności prostego kalkulatora (dodawanie, odejmowanie, mnożenie, dzielenie, potęgowanie), w którym użytkownik będzie wybierał działanie a następnie podawał liczby. Użyj pętli aby użytkownik mógł wykonać więcej niż jedno działanie."
   ]
  },
  {
   "cell_type": "code",
   "execution_count": 28,
   "id": "84f287a7",
   "metadata": {},
   "outputs": [
    {
     "name": "stdout",
     "output_type": "stream",
     "text": [
      "Dostępne działania to:\n",
      "1: dodawanie 2: odejmowanie 3: mnożenie\n",
      "4: dzielenie 5: reszta z dzielenia 6: potęgowanie\n",
      "Aby zakończyć program wpisz 'end'\n",
      "Wybierz działanie: 4\n",
      "Podaj 1. liczbę: 5\n",
      "Podaj 2. liczbę: 2\n",
      "Wynik wynosi:  2.5\n",
      "Wybierz działanie: end\n"
     ]
    }
   ],
   "source": [
    "# Definiowanie funkcji\n",
    "def dod(x,y):\n",
    "    return x+y\n",
    "def ode(x,y):\n",
    "    return x-y\n",
    "def mno(x,y):\n",
    "    return x*y\n",
    "def dziel(x,y):\n",
    "    return x/y\n",
    "def rdziel(x,y):\n",
    "    return x%y\n",
    "def pot(x,y):\n",
    "    return x**y\n",
    "\n",
    "# UI\n",
    "print(\"Dostępne działania to:\")\n",
    "print(\"1: dodawanie 2: odejmowanie 3: mnożenie\")\n",
    "print(\"4: dzielenie 5: reszta z dzielenia 6: potęgowanie\")\n",
    "print(\"Aby zakończyć program wpisz 'end'\")\n",
    "\n",
    "# Pętle - działanie w zależności od wybranego działania\n",
    "w = 1\n",
    "while w == 1:\n",
    "    dzial = input(\"Wybierz działanie: \")\n",
    "    if dzial == \"1\":\n",
    "        x = int(input(\"Podaj 1. liczbę: \"))\n",
    "        y = int(input(\"Podaj 2. liczbę: \"))\n",
    "        print(\"Wynik wynosi: \",dod(x,y))\n",
    "    elif dzial == \"2\":\n",
    "        x = int(input(\"Podaj 1. liczbę: \"))\n",
    "        y = int(input(\"Podaj 2. liczbę: \"))\n",
    "        print(\"Wynik wynosi: \",ode(x,y))\n",
    "    elif dzial == \"3\":\n",
    "        x = int(input(\"Podaj 1. liczbę: \"))\n",
    "        y = int(input(\"Podaj 2. liczbę: \"))\n",
    "        print(\"Wynik wynosi: \",mno(x,y))\n",
    "    elif dzial == \"4\":\n",
    "        x = int(input(\"Podaj 1. liczbę: \"))\n",
    "        y = int(input(\"Podaj 2. liczbę: \"))\n",
    "        print(\"Wynik wynosi: \",dziel(x,y))\n",
    "    elif dzial == \"5\":\n",
    "        x = int(input(\"Podaj 1. liczbę: \"))\n",
    "        y = int(input(\"Podaj 2. liczbę: \"))\n",
    "        print(\"Wynik wynosi: \",rdziel(x,y))\n",
    "    elif dzial == \"6\":\n",
    "        x = int(input(\"Podaj 1. liczbę: \"))\n",
    "        y = int(input(\"Podaj 2. liczbę: \"))\n",
    "        print(\"Wynik wynosi: \",pot(x,y))\n",
    "    elif dzial == \"end\":\n",
    "        w = 2"
   ]
  },
  {
   "cell_type": "markdown",
   "id": "2691bcdf",
   "metadata": {},
   "source": [
    "II. Napisz program liczący silnię liczby podanej przez użytkownika metodą rekurencyjną."
   ]
  },
  {
   "cell_type": "code",
   "execution_count": 53,
   "id": "768e34c5",
   "metadata": {},
   "outputs": [
    {
     "name": "stdout",
     "output_type": "stream",
     "text": [
      "Liczba, z której chcesz obliczyć silnię wynosi: 4\n",
      "Silnia wynosi:  24\n"
     ]
    }
   ],
   "source": [
    "def sil(x):\n",
    "    a = 1\n",
    "    for i in range(1, x+1):\n",
    "        a *= i\n",
    "    return a # Nie wiem czy to rekurencyjnie\n",
    "\n",
    "b = int(input(\"Liczba, z której chcesz obliczyć silnię wynosi: \"))\n",
    "print(\"Silnia wynosi: \", sil(b))"
   ]
  }
 ],
 "metadata": {
  "kernelspec": {
   "display_name": "Python 3 (ipykernel)",
   "language": "python",
   "name": "python3"
  },
  "language_info": {
   "codemirror_mode": {
    "name": "ipython",
    "version": 3
   },
   "file_extension": ".py",
   "mimetype": "text/x-python",
   "name": "python",
   "nbconvert_exporter": "python",
   "pygments_lexer": "ipython3",
   "version": "3.9.5"
  }
 },
 "nbformat": 4,
 "nbformat_minor": 5
}
