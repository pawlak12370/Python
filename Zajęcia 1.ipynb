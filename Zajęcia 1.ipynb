{
 "cells": [
  {
   "cell_type": "markdown",
   "id": "5741fbb7",
   "metadata": {},
   "source": [
    "## Zajęcia 1"
   ]
  },
  {
   "cell_type": "raw",
   "id": "e0f3d9a9",
   "metadata": {},
   "source": [
    "Funkcja jest podprogramem. Wywołanie jej powoduje wykonanie zawartego w niej kodu.\n",
    "\n",
    "Funkcja print() zwraca na ekran przesłane jej argumenty, które otrzymują tekstowy typ danych - string."
   ]
  },
  {
   "cell_type": "code",
   "execution_count": 1,
   "id": "853dbea6",
   "metadata": {},
   "outputs": [
    {
     "name": "stdout",
     "output_type": "stream",
     "text": [
      "Hello World\n"
     ]
    }
   ],
   "source": [
    "print(\"Hello World\")"
   ]
  },
  {
   "cell_type": "code",
   "execution_count": 2,
   "id": "f8af0675",
   "metadata": {},
   "outputs": [
    {
     "name": "stdout",
     "output_type": "stream",
     "text": [
      "Hello World\n"
     ]
    }
   ],
   "source": [
    "print (\"Hello\",\"World\")"
   ]
  },
  {
   "cell_type": "raw",
   "id": "25e947bd",
   "metadata": {},
   "source": [
    "Komentarze:\n",
    "    Komentarze rozpoczyna się znakiem #. Cała zawartość po # nie jest interpretowana.\n",
    "Typy danych:\n",
    "    * string, typ tekstowy, podawany w cudzysłowach\n",
    "    * integer, int, typ liczbowy - liczby całkowite\n",
    "    * float, typ liczbowy - liczby zmiennoprzecinkowe"
   ]
  },
  {
   "cell_type": "raw",
   "id": "563ecb46",
   "metadata": {},
   "source": [
    "Zmienne:\n",
    "    Zmienne są odwołaniami do obiektów w pamięci komputera.       \n",
    "    Przypisanie wartości do zmiennej tworzy obiekt w pamięci:\n",
    "         x = 3\n",
    "         z = -5\n",
    "    Możemy odwoływać się do obiektów przez już istniejące zmienne, ale przypisanie nowego obiektu do istniejącej       zmiennej nie wpływa na to, do których obiektów odwołują się inne zmienne.\n",
    "         g = x\n",
    "      ale x = 5 nie zmieni zmiennej g."
   ]
  },
  {
   "cell_type": "code",
   "execution_count": 3,
   "id": "4f75bc00",
   "metadata": {},
   "outputs": [
    {
     "name": "stdout",
     "output_type": "stream",
     "text": [
      "Wypisz ciąg zmiennych:  3 -5 3\n",
      "Wypisz ciąg zmiennych po zmianie:  8 -5 3\n"
     ]
    }
   ],
   "source": [
    "# Zadajmy zmienne\n",
    "x = 3\n",
    "z = -5\n",
    "g = x\n",
    "\n",
    "print (\"Wypisz ciąg zmiennych: \", x, z, g)\n",
    "\n",
    "# Zmieńmy jedną ze zmiennych \n",
    "x = 8\n",
    "\n",
    "print (\"Wypisz ciąg zmiennych po zmianie: \", x, z, g)"
   ]
  },
  {
   "cell_type": "raw",
   "id": "58e60c00",
   "metadata": {},
   "source": [
    "Typy danych:\n",
    "     Do sprawdzenia typu danych służy type(), która przyjmuje jeden argument, lecz nie wypisuje typu na ekran, \n",
    "     dlatego wymaga dodatkowej funkcji print()."
   ]
  },
  {
   "cell_type": "code",
   "execution_count": 5,
   "id": "2c6ad37f",
   "metadata": {},
   "outputs": [
    {
     "name": "stdout",
     "output_type": "stream",
     "text": [
      "Typ liczby 5:  <class 'int'>\n",
      "Typ liczby 3.1415:  <class 'float'>\n",
      "Typ napisu 'Chemia kwantowa':  <class 'str'>\n"
     ]
    }
   ],
   "source": [
    "# Wypiszmy typy danych, które poznaliśmy poprzednio\n",
    "# Zadanie zmiennych\n",
    "\n",
    "x = 5\n",
    "y = 3.1415\n",
    "z = \"Chemia kwantowa\"\n",
    "\n",
    "# Wypisanie ich typów\n",
    "\n",
    "print(\"Typ liczby 5: \",type(x))\n",
    "print(\"Typ liczby 3.1415: \",type(y))\n",
    "print(\"Typ napisu 'Chemia kwantowa': \",type(z))"
   ]
  },
  {
   "cell_type": "raw",
   "id": "a128e429",
   "metadata": {},
   "source": [
    "Operacje matematyczne:\n",
    "    Python podstawowo obsługuje cztery podstawowe operacje \n",
    "    matematyczne(+, -, *, /), ale także resztę z dzielenia (%) \n",
    "    oraz potęgowanie (**)."
   ]
  },
  {
   "cell_type": "code",
   "execution_count": 8,
   "id": "6cbb9fd9",
   "metadata": {},
   "outputs": [
    {
     "name": "stdout",
     "output_type": "stream",
     "text": [
      "5+5 =  10\n",
      "6-3 =  3\n",
      "8*7 =  56\n",
      "25/5 =  5.0\n",
      "2**2 =  4\n",
      "reszta z dzielenia 5/3 =  2\n"
     ]
    }
   ],
   "source": [
    "# Chyba nie wymaga komentarza :)\n",
    "print(\"5+5 = \", 5+5)\n",
    "print(\"6-3 = \", 6-3)\n",
    "print(\"8*7 = \", 8*7)\n",
    "print(\"25/5 = \", 25/5)\n",
    "print(\"2**2 = \", 2**2)\n",
    "print(\"reszta z dzielenia 5/3 = \", 5%3)"
   ]
  },
  {
   "cell_type": "raw",
   "id": "a9ff2de4",
   "metadata": {},
   "source": [
    "Obsługa wejścia:\n",
    "    Program może wczytywać dane zadane przez użytkownika. \n",
    "    Najprościej przekazać je z klawiatury, do czego służy \n",
    "    funkcja input().\n",
    "    \n",
    "    Działa jak print(), a po wyświetleniu czeka na wprowadzenie \n",
    "    zmiennej.\n",
    "    \n",
    "    UWAGA!!!: Zmienna wprowadzona w funkcji input() jest typu \n",
    "    string."
   ]
  },
  {
   "cell_type": "code",
   "execution_count": 12,
   "id": "7ad7f169",
   "metadata": {
    "scrolled": true
   },
   "outputs": [
    {
     "name": "stdout",
     "output_type": "stream",
     "text": [
      "Wprowadź dane: Twierdzenie Hochenberga-Kohna\n",
      "Twoje dane to:  Twierdzenie Hochenberga-Kohna\n",
      "\n",
      "6\n",
      "Typ wpisanej liczby:  <class 'str'>\n"
     ]
    }
   ],
   "source": [
    "# Wprowadźmy zmienną, której przypiszemy dane wpisane przez użytkownika\n",
    "zmienna = input(\"Wprowadź dane: \") # przypisujemy STRING do zmiennej\n",
    "print(\"Twoje dane to: \", zmienna) # wypisujemy wynik inputu\n",
    "\n",
    "#jeśli wpiszemy liczbę, również dostaniemy STRING\n",
    "print()\n",
    "liczba = input()\n",
    "print(\"Typ wpisanej liczby: \",type(liczba))"
   ]
  },
  {
   "cell_type": "raw",
   "id": "c12e29cc",
   "metadata": {},
   "source": [
    "Zmiana typu zmiennej:\n",
    "    Typ zmiennej można zmienić za pomocą następujących funkcji:\n",
    "        * int() - zmiana zmiennej na typ int\n",
    "        * float() - zmiana zmiennej na typ float\n",
    "        * string() - zmiana zmiennej na typ string"
   ]
  },
  {
   "cell_type": "markdown",
   "id": "28af5686",
   "metadata": {},
   "source": [
    "##### Zadania:"
   ]
  },
  {
   "cell_type": "raw",
   "id": "b41a3a3c",
   "metadata": {},
   "source": [
    "I. Stwórz program, który prosi w dwóch krokach o imię i nazwisko, a następnie wyświetla je razem."
   ]
  },
  {
   "cell_type": "code",
   "execution_count": 29,
   "id": "7bb8ae42",
   "metadata": {
    "scrolled": true
   },
   "outputs": [
    {
     "name": "stdout",
     "output_type": "stream",
     "text": [
      "Wpisz imię: Bonifacy\n",
      "Wpisz nazwisko: Żyletka\n",
      "Bonifacy Żyletka\n"
     ]
    }
   ],
   "source": [
    "imie = input(\"Wpisz imię: \")\n",
    "nazw = input(\"Wpisz nazwisko: \")\n",
    "print(imie,nazw)"
   ]
  },
  {
   "cell_type": "raw",
   "id": "aad7f217",
   "metadata": {},
   "source": [
    "II. Stwórz program liczący pole kwadratu z boku podanego przez użytkownika."
   ]
  },
  {
   "cell_type": "code",
   "execution_count": 22,
   "id": "1be3e5a9",
   "metadata": {},
   "outputs": [
    {
     "name": "stdout",
     "output_type": "stream",
     "text": [
      "Podaj bok kwadratu: 225\n",
      "\n",
      "\n",
      "Pole kwadratu o zadanym boku wynosi:  50625\n"
     ]
    }
   ],
   "source": [
    "# Zadanie boku kwadratu\n",
    "a = input(\"Podaj bok kwadratu: \")\n",
    "\n",
    "# Zamiana string na int\n",
    "b = int(a)\n",
    "\n",
    "# Obliczenie i wyświetlenie pola\n",
    "pol = b**2\n",
    "print()\n",
    "print()\n",
    "print(\"Pole kwadratu o zadanym boku wynosi: \",pol)"
   ]
  }
 ],
 "metadata": {
  "kernelspec": {
   "display_name": "Python 3 (ipykernel)",
   "language": "python",
   "name": "python3"
  },
  "language_info": {
   "codemirror_mode": {
    "name": "ipython",
    "version": 3
   },
   "file_extension": ".py",
   "mimetype": "text/x-python",
   "name": "python",
   "nbconvert_exporter": "python",
   "pygments_lexer": "ipython3",
   "version": "3.9.5"
  }
 },
 "nbformat": 4,
 "nbformat_minor": 5
}
